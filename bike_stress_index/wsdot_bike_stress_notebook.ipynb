{
 "cells": [
  {
   "cell_type": "code",
   "execution_count": 165,
   "metadata": {},
   "outputs": [],
   "source": [
    "import numpy as np\n",
    "import pandas as pd\n",
    "import geopandas as gpd\n",
    "import psrcelmerpy"
   ]
  },
  {
   "cell_type": "markdown",
   "metadata": {},
   "source": []
  },
  {
   "cell_type": "code",
   "execution_count": 166,
   "metadata": {},
   "outputs": [],
   "source": [
    "# Round to nearest 5\n",
    "def myround(x, base=5):\n",
    "    return base * round(x/base)"
   ]
  },
  {
   "cell_type": "code",
   "execution_count": 167,
   "metadata": {},
   "outputs": [],
   "source": [
    "eg_conn = psrcelmerpy.ElmerGeoConn()\n",
    "\n",
    "# Load network shapefile\n",
    "gdf = gpd.read_file(r'R:\\e2projects_two\\SoundCast\\Inputs\\dev\\networks\\2023\\network_2023_v3\\shapefiles\\AM\\AM_edges.shp')\n",
    "\n",
    "# Reformat speed limit and lanes to match the bike stress data\n",
    "# Creating a new column for speed limits where minimum is capped at 25 and max at 35\n",
    "gdf['SpeedLimit_new'] = gdf['ul2'].copy()\n",
    "gdf.loc[gdf['ul2'] <= 20, 'SpeedLimit_new'] = 20\n",
    "gdf.loc[gdf['ul2'] >= 50, 'SpeedLimit_new'] = 50\n",
    "gdf['SpeedLimit_new'] = myround(gdf['SpeedLimit_new'])\n",
    "gdf['SpeedLimit_new'] = gdf['SpeedLimit_new'].astype('int')\n",
    "\n",
    "# Set maximum lanes at 6 and minimum at 2\n",
    "gdf['lanes_new'] = gdf['lanes'].copy().astype('int')\n",
    "gdf.loc[gdf['lanes'] >= 3, 'lanes_new'] = 3\n",
    "gdf.loc[gdf['lanes'] <1, 'lanes_new'] = 1\n"
   ]
  },
  {
   "cell_type": "code",
   "execution_count": 168,
   "metadata": {},
   "outputs": [],
   "source": [
    "# gdf.head()"
   ]
  },
  {
   "cell_type": "code",
   "execution_count": 169,
   "metadata": {},
   "outputs": [
    {
     "data": {
      "text/plain": [
       "6001-999999    28\n",
       "751-1500       28\n",
       "3001-999999    28\n",
       "1501-3000      28\n",
       "0-6000         28\n",
       "0-750          28\n",
       "0-999999       28\n",
       "Name: AADT_class, dtype: int64"
      ]
     },
     "execution_count": 169,
     "metadata": {},
     "output_type": "execute_result"
    }
   ],
   "source": [
    "# Load bike stress table, from WSDOT Design Manual\n",
    "# https://wsdot.wa.gov/publications/manuals/fulltext/M22-01/1520.pdf\n",
    "\n",
    "df_data = pd.read_csv('wsdot_bike_stress_table.csv')\n",
    "df_data['AADT_class'] = df_data['AADT_min'].astype('str')+'-'+df_data['AADT_max'].astype('str')\n",
    "df_data['AADT_class'].value_counts()"
   ]
  },
  {
   "cell_type": "code",
   "execution_count": 170,
   "metadata": {},
   "outputs": [],
   "source": [
    "# Define transRefEdges facility types to match the study definitions\n",
    "\n",
    "bike_type_map = {\n",
    "    0: 'NoBikeFacility',    # No Bike Lane\n",
    "    1: 'BikeLane',    # Striped Bike Lane\n",
    "    2: 'ProtectedBikeLane',    # Protected Bike Lane\n",
    "    3: 'NoBikeFacility',    # Paved Shoulder\n",
    "    4: 'NoBikeFacility',    # Shared Lane Markings\n",
    "    5: 'NoBikeFacility',    # Bike Provision Undefined\n",
    "    6: 'NoBikeFacility',    # Bike Provision Undefined\n",
    "    8: 'ProtectedBikeLane',    # Shared Use Path\n",
    "    9: 'BufferedBikeLane',    # Buffered Bike Lane \n",
    "    10: 'NoBikeFacility',     # Neighborhood Greenway\n",
    "    \n",
    "}\n",
    "\n",
    "# Create new fields that use the bike facility and area type mapping\n",
    "gdf['BikeFacility'] = gdf['bkfac'].map(bike_type_map)\n"
   ]
  },
  {
   "cell_type": "code",
   "execution_count": 171,
   "metadata": {},
   "outputs": [],
   "source": [
    "# Load AADT from network_results\n",
    "df_network = pd.read_csv(r'L:\\RTP_2022\\final_runs\\sc_rtp_2018_final\\soundcast\\outputs\\network\\network_results.csv')"
   ]
  },
  {
   "cell_type": "code",
   "execution_count": 172,
   "metadata": {},
   "outputs": [
    {
     "data": {
      "text/plain": [
       "0-750          26622\n",
       "0-6000         25285\n",
       "3001-999999    14557\n",
       "6001-999999     8368\n",
       "1501-3000       7777\n",
       "751-1500        4480\n",
       "0-999999        3710\n",
       "Name: AADT_class, dtype: int64"
      ]
     },
     "execution_count": 172,
     "metadata": {},
     "output_type": "execute_result"
    }
   ],
   "source": [
    "df_tveh = df_network.groupby(['ij']).sum()[['@tveh']].reset_index()\n",
    "\n",
    "gdf = gdf.merge(df_tveh, left_on='id', right_on='ij', how='left')\n",
    "gdf.rename(columns={'@tveh': 'AADT'}, inplace=True)\n",
    "\n",
    "# Some links do not have traffic, so set AADT to 0\n",
    "gdf['AADT'] = gdf['AADT'].fillna(0)\n",
    "\n",
    "# Put AADT in classes\n",
    "\n",
    "# For 1-lane streets\n",
    "gdf.loc[(gdf['lanes_new'] == 1) & (gdf['AADT']<=750), 'AADT_class'] = '0-750'\n",
    "gdf.loc[(gdf['lanes_new'] == 1) & (gdf['AADT']>750) & (gdf['AADT']<=1500), 'AADT_class'] = '751-1500'\n",
    "gdf.loc[(gdf['lanes_new'] == 1) & (gdf['AADT']>1500) & (gdf['AADT']<=3000), 'AADT_class'] = '1501-3000'\n",
    "gdf.loc[(gdf['lanes_new'] == 1) & (gdf['AADT']>3000), 'AADT_class'] = '3001-999999'\n",
    "\n",
    "# For 2-lanes streets\n",
    "gdf.loc[(gdf['lanes_new'] == 2) & (gdf['AADT']<=7000), 'AADT_class'] = '0-6000'\n",
    "gdf.loc[(gdf['lanes_new'] == 2) & (gdf['AADT']>7000), 'AADT_class'] = '6001-999999'\n",
    "\n",
    "# For 3+ lane streets\n",
    "gdf.loc[(gdf['lanes_new'] == 3), 'AADT_class'] = '0-999999'\n",
    "\n",
    "gdf['AADT_class'].value_counts()"
   ]
  },
  {
   "cell_type": "code",
   "execution_count": 175,
   "metadata": {},
   "outputs": [],
   "source": [
    "gdf = gdf.merge(df_data, left_on=['SpeedLimit_new', 'lanes_new','AADT_class','BikeFacility'], right_on=['SpeedLimit','Lanes','AADT_class','BikeFacility'], how='left')\n",
    "\n",
    "# Create new column names because ArcGIS is a dinosaur that can't handle more than 10 character headers\n",
    "gdf.rename(columns={'SpeedLimit':'speed', 'AADT_class': 'vol'}, inplace=True)"
   ]
  },
  {
   "cell_type": "code",
   "execution_count": 176,
   "metadata": {},
   "outputs": [
    {
     "data": {
      "text/html": [
       "<div>\n",
       "<style scoped>\n",
       "    .dataframe tbody tr th:only-of-type {\n",
       "        vertical-align: middle;\n",
       "    }\n",
       "\n",
       "    .dataframe tbody tr th {\n",
       "        vertical-align: top;\n",
       "    }\n",
       "\n",
       "    .dataframe thead th {\n",
       "        text-align: right;\n",
       "    }\n",
       "</style>\n",
       "<table border=\"1\" class=\"dataframe\">\n",
       "  <thead>\n",
       "    <tr style=\"text-align: right;\">\n",
       "      <th></th>\n",
       "      <th>ij</th>\n",
       "      <th>upslp_IJ</th>\n",
       "      <th>bkfac_IJ</th>\n",
       "      <th>Lanes_IJ</th>\n",
       "      <th>speed_IJ</th>\n",
       "      <th>BTLS_IJ</th>\n",
       "      <th>geometry</th>\n",
       "      <th>PSRCEdgeID</th>\n",
       "      <th>upslp_JI</th>\n",
       "      <th>bkfac_JI</th>\n",
       "      <th>Lanes_JI</th>\n",
       "      <th>speed_JI</th>\n",
       "      <th>BTLS_JI</th>\n",
       "    </tr>\n",
       "  </thead>\n",
       "  <tbody>\n",
       "    <tr>\n",
       "      <th>0</th>\n",
       "      <td>2505-79004</td>\n",
       "      <td>0.000000</td>\n",
       "      <td>0.0</td>\n",
       "      <td>2.0</td>\n",
       "      <td>20.0</td>\n",
       "      <td>3.0</td>\n",
       "      <td>LINESTRING (1272486.412 309313.000, 1272586.82...</td>\n",
       "      <td>874.0</td>\n",
       "      <td>0.000000</td>\n",
       "      <td>0.0</td>\n",
       "      <td>2.0</td>\n",
       "      <td>20.0</td>\n",
       "      <td>3.0</td>\n",
       "    </tr>\n",
       "    <tr>\n",
       "      <th>1</th>\n",
       "      <td>2505-71782</td>\n",
       "      <td>0.000000</td>\n",
       "      <td>0.0</td>\n",
       "      <td>2.0</td>\n",
       "      <td>20.0</td>\n",
       "      <td>3.0</td>\n",
       "      <td>LINESTRING (1272486.412 309313.000, 1272379.82...</td>\n",
       "      <td>872.0</td>\n",
       "      <td>0.000000</td>\n",
       "      <td>0.0</td>\n",
       "      <td>2.0</td>\n",
       "      <td>20.0</td>\n",
       "      <td>3.0</td>\n",
       "    </tr>\n",
       "    <tr>\n",
       "      <th>2</th>\n",
       "      <td>2505-75120</td>\n",
       "      <td>0.000000</td>\n",
       "      <td>0.0</td>\n",
       "      <td>2.0</td>\n",
       "      <td>20.0</td>\n",
       "      <td>3.0</td>\n",
       "      <td>LINESTRING (1272486.412 309313.000, 1272491.52...</td>\n",
       "      <td>873.0</td>\n",
       "      <td>0.000000</td>\n",
       "      <td>0.0</td>\n",
       "      <td>2.0</td>\n",
       "      <td>20.0</td>\n",
       "      <td>3.0</td>\n",
       "    </tr>\n",
       "    <tr>\n",
       "      <th>3</th>\n",
       "      <td>79117-79004</td>\n",
       "      <td>0.186476</td>\n",
       "      <td>0.0</td>\n",
       "      <td>1.0</td>\n",
       "      <td>25.0</td>\n",
       "      <td>2.0</td>\n",
       "      <td>LINESTRING (1274401.412 310281.765, 1274386.64...</td>\n",
       "      <td>131369.0</td>\n",
       "      <td>0.000000</td>\n",
       "      <td>0.0</td>\n",
       "      <td>1.0</td>\n",
       "      <td>25.0</td>\n",
       "      <td>2.0</td>\n",
       "    </tr>\n",
       "    <tr>\n",
       "      <th>4</th>\n",
       "      <td>79004-72460</td>\n",
       "      <td>0.002948</td>\n",
       "      <td>0.0</td>\n",
       "      <td>1.0</td>\n",
       "      <td>25.0</td>\n",
       "      <td>2.0</td>\n",
       "      <td>LINESTRING (1274354.882 310296.588, 1274316.11...</td>\n",
       "      <td>131706.0</td>\n",
       "      <td>0.071124</td>\n",
       "      <td>0.0</td>\n",
       "      <td>1.0</td>\n",
       "      <td>25.0</td>\n",
       "      <td>2.0</td>\n",
       "    </tr>\n",
       "  </tbody>\n",
       "</table>\n",
       "</div>"
      ],
      "text/plain": [
       "            ij  upslp_IJ  bkfac_IJ  Lanes_IJ  speed_IJ  BTLS_IJ  \\\n",
       "0   2505-79004  0.000000       0.0       2.0      20.0      3.0   \n",
       "1   2505-71782  0.000000       0.0       2.0      20.0      3.0   \n",
       "2   2505-75120  0.000000       0.0       2.0      20.0      3.0   \n",
       "3  79117-79004  0.186476       0.0       1.0      25.0      2.0   \n",
       "4  79004-72460  0.002948       0.0       1.0      25.0      2.0   \n",
       "\n",
       "                                            geometry  PSRCEdgeID  upslp_JI  \\\n",
       "0  LINESTRING (1272486.412 309313.000, 1272586.82...       874.0  0.000000   \n",
       "1  LINESTRING (1272486.412 309313.000, 1272379.82...       872.0  0.000000   \n",
       "2  LINESTRING (1272486.412 309313.000, 1272491.52...       873.0  0.000000   \n",
       "3  LINESTRING (1274401.412 310281.765, 1274386.64...    131369.0  0.000000   \n",
       "4  LINESTRING (1274354.882 310296.588, 1274316.11...    131706.0  0.071124   \n",
       "\n",
       "   bkfac_JI  Lanes_JI  speed_JI  BTLS_JI  \n",
       "0       0.0       2.0      20.0      3.0  \n",
       "1       0.0       2.0      20.0      3.0  \n",
       "2       0.0       2.0      20.0      3.0  \n",
       "3       0.0       1.0      25.0      2.0  \n",
       "4       0.0       1.0      25.0      2.0  "
      ]
     },
     "execution_count": 176,
     "metadata": {},
     "output_type": "execute_result"
    }
   ],
   "source": [
    "gdf['ij'] = gdf['i'].astype('str')+'-'+gdf['j'].astype('str')\n",
    "gdf['ji'] = gdf['j'].astype('str')+'-'+gdf['i'].astype('str')\n",
    "\n",
    "gdf['ji_exists'] = 0\n",
    "gdf.loc[gdf['ji'].isin(gdf['ij']), 'ji_exists'] = 1\n",
    "\n",
    "# Get a ji dataframe\n",
    "gdf_ji = gdf[gdf['ji_exists']==1].copy()\n",
    "gdf_ji.drop(['ij','geometry'], axis=1, inplace=True)\n",
    "gdf_ji.rename(columns={'ji': 'ij'}, inplace=True)\n",
    "\n",
    "# merge that to gdf\n",
    "\n",
    "gdf_new = gdf.copy()\n",
    "gdf_new = gdf_new[['ij','upslp', 'bkfac','Lanes', 'speed', 'BTLS','geometry','PSRCEdgeID']].merge(gdf_ji[['ij','upslp', 'bkfac','Lanes', 'speed', 'BTLS']],\n",
    "                                                                                      how='left', on='ij', suffixes=['_IJ','_JI'])\n",
    "gdf_new.head()"
   ]
  },
  {
   "cell_type": "code",
   "execution_count": 177,
   "metadata": {},
   "outputs": [
    {
     "data": {
      "text/plain": [
       "90799"
      ]
     },
     "execution_count": 177,
     "metadata": {},
     "output_type": "execute_result"
    }
   ],
   "source": [
    "len(gdf_new)"
   ]
  },
  {
   "cell_type": "code",
   "execution_count": 178,
   "metadata": {},
   "outputs": [],
   "source": [
    "gdf_new.to_file('2023_network_bike_stress_wsdot.shp')"
   ]
  },
  {
   "cell_type": "code",
   "execution_count": null,
   "metadata": {},
   "outputs": [],
   "source": []
  }
 ],
 "metadata": {
  "kernelspec": {
   "display_name": "summary",
   "language": "python",
   "name": "python3"
  },
  "language_info": {
   "codemirror_mode": {
    "name": "ipython",
    "version": 3
   },
   "file_extension": ".py",
   "mimetype": "text/x-python",
   "name": "python",
   "nbconvert_exporter": "python",
   "pygments_lexer": "ipython3",
   "version": "3.7.10"
  }
 },
 "nbformat": 4,
 "nbformat_minor": 2
}
