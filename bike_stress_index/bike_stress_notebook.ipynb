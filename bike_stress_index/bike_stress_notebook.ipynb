{
 "cells": [
  {
   "cell_type": "code",
   "execution_count": 80,
   "metadata": {},
   "outputs": [],
   "source": [
    "import numpy as np\n",
    "import pandas as pd\n",
    "import geopandas as gpd\n",
    "import psrcelmerpy"
   ]
  },
  {
   "cell_type": "markdown",
   "metadata": {},
   "source": []
  },
  {
   "cell_type": "code",
   "execution_count": 89,
   "metadata": {},
   "outputs": [],
   "source": [
    "eg_conn = psrcelmerpy.ElmerGeoConn()\n",
    "\n",
    "# Load network shapefile\n",
    "gdf = gpd.read_file(r'R:\\e2projects_two\\SoundCast\\Inputs\\dev\\networks\\2023\\network_2023_v3\\shapefiles\\AM\\AM_edges.shp')"
   ]
  },
  {
   "cell_type": "code",
   "execution_count": 90,
   "metadata": {},
   "outputs": [
    {
     "data": {
      "text/plain": [
       "90799"
      ]
     },
     "execution_count": 90,
     "metadata": {},
     "output_type": "execute_result"
    }
   ],
   "source": [
    "len(gdf)"
   ]
  },
  {
   "cell_type": "code",
   "execution_count": 91,
   "metadata": {},
   "outputs": [],
   "source": [
    "# Load bike stress table, adapted from Lowry\n",
    "# https://www1.coe.neu.edu/~pfurth/Furth%20papers/2016%20Prioritizing%20to%20improve%20low-stress%20network%20connectivity%20Lowry,%20Furth,%20Hadden-Loh.pdf\n",
    "\n",
    "df_data = pd.read_csv('bike_stress_table.csv')"
   ]
  },
  {
   "cell_type": "code",
   "execution_count": 92,
   "metadata": {},
   "outputs": [],
   "source": [
    "# Reformat speed limit and lanes to match the bike stress data\n",
    "# Creating a new column for speed limits where minimum is capped at 25 and max at 35\n",
    "gdf['SpeedLimit_new'] = gdf['ul2'].copy()\n",
    "gdf.loc[gdf['ul2'] <= 25, 'SpeedLimit_new'] = 25\n",
    "gdf.loc[gdf['ul2'] >= 35, 'SpeedLimit_new'] = 35\n",
    "\n",
    "# Set maximum lanes at 6 and minimum at 2\n",
    "\n",
    "gdf['lanes_new'] = gdf['lanes'].copy().astype('int')\n",
    "gdf.loc[gdf['lanes'] >= 6, 'lanes_new'] = 6\n",
    "gdf.loc[gdf['lanes'] <2, 'lanes_new'] = 2\n",
    "\n",
    "# Lowry has different values for neighborhood street for each bike facility type\n",
    "# Create a flag for an local street\n",
    "gdf['LocalStreet'] = 0\n",
    "gdf.loc[gdf['FacilityTy'] == 9, 'LocalStreet'] = 1\n",
    "# gdf['FacilityType'].unique()"
   ]
  },
  {
   "cell_type": "code",
   "execution_count": 93,
   "metadata": {},
   "outputs": [],
   "source": [
    "gdf['FacilityTy'] = gdf['FacilityTy'].astype('int')\n",
    "gdf['FacilityTy'].unique()\n",
    "\n",
    "# Remove centroid connectors and freeways\n",
    "facility_type_lookup = {\n",
    "    1:'Freeway',   # Interstate\n",
    "    2:'Freeway',   # Other Freeway\n",
    "    3:'Freeway', # Expressway\n",
    "    4:'Ramp',\n",
    "    5:'Arterial',    # Principal arterial\n",
    "    6:'Arterial',    # Minor Arterial\n",
    "    7:'Collector',    # Major Collector\n",
    "    8:'Collector',    # Minor Collector\n",
    "    9:'Collector',   # Local\n",
    "    10:'Busway',\n",
    "    11:'Non-Motor',\n",
    "    12:'Light Rail',\n",
    "    13:'Commuter Rail',\n",
    "    15:'Ferry',\n",
    "    16:'Passenger Only Ferry',\n",
    "    17:'Connector',    # centroid connector\n",
    "    18:'Connector',    # facility connector\n",
    "    19:'HOV',    # HOV Only Freeway\n",
    "    20:'HOV'    # HOV Flag\n",
    "    }\n",
    "\n",
    "gdf = gdf[gdf['FacilityTy'].isin([5,6,7,8,9,11])]"
   ]
  },
  {
   "cell_type": "code",
   "execution_count": 94,
   "metadata": {},
   "outputs": [
    {
     "data": {
      "text/plain": [
       "61011"
      ]
     },
     "execution_count": 94,
     "metadata": {},
     "output_type": "execute_result"
    }
   ],
   "source": [
    "len(gdf)"
   ]
  },
  {
   "cell_type": "code",
   "execution_count": 95,
   "metadata": {},
   "outputs": [],
   "source": [
    "# Intersect with urban growth area\n",
    "gdf_growth_area = eg_conn.read_geolayer('urban_growth_area')\n",
    "gdf_growth_area = gdf_growth_area[['county_name','geometry']].to_crs('EPSG:2285')\n",
    "\n",
    "gdf = gpd.sjoin(gdf, gdf_growth_area, how=\"left\")\n",
    "\n",
    "gdf['rural'] = 'not_rural'\n",
    "gdf.loc[gdf['county_name'].isnull(),'rural'] = 'rural'"
   ]
  },
  {
   "cell_type": "code",
   "execution_count": 96,
   "metadata": {},
   "outputs": [],
   "source": [
    "# Define transRefEdges facility types to match the study definitions\n",
    "\n",
    "bike_type_map = {\n",
    "    0: 'NoBikeFacility',    # No Bike Lane\n",
    "    1: 'BikeLane',    # Striped Bike Lane\n",
    "    2: 'ProtectedBikeLane',    # Protected Bike Lane\n",
    "    3: 'NoBikeFacility',    # Paved Shoulder\n",
    "    4: 'Sharrows',    # Shared Lane Markings\n",
    "    5: 'NoBikeFacility',    # Bike Provision Undefined\n",
    "    6: 'NoBikeFacility',    # Bike Provision Undefined\n",
    "    8: 'SharedUsePath',    # Shared Use Path\n",
    "    9: 'BufferedBikeLane',    # Buffered Bike Lane \n",
    "    10: 'NoBikeFacility',     # Neighborhood Greenway\n",
    "    \n",
    "}\n",
    "\n",
    "# Create a mapping of local vs other area type\n",
    "area_type_map = {\n",
    "    0: 'Other',\n",
    "    1: 'Neighborhood'\n",
    "}\n",
    "\n",
    "# Create new fields that use the bike facility and area type mapping\n",
    "gdf['BikeFacility'] = gdf['bkfac'].map(bike_type_map)\n",
    "gdf['AreaType'] = gdf['LocalStreet'].map(area_type_map)\n",
    "\n",
    "# We will follow this designation for any local street with speeds 30 mph or less and 2 lanes (1 in each direction)\n",
    "# If speed limit > 30, set area type to non-neighborhood\n",
    "gdf.loc[(gdf['SpeedLimit_new']>30, 'AreaType')] = 'Other'\n",
    "\n",
    "# If number of lanes > 2, set area type to non-neighborhood\n",
    "# FIXME: should probably just be 1 lane in each direction\n",
    "gdf.loc[(gdf['lanes_new']>2, 'AreaType')] = 'Other'\n",
    "\n",
    "# If in rural area, treat paved shoulder as bike lanes\n",
    "gdf.loc[((gdf['rural']=='rural')&(gdf['bkfac']==3)), 'BikeFacility'] = 'BikeLane'\n",
    "\n",
    "# Merge to df_data to get stress values\n",
    "gdf = gdf.merge(df_data, left_on=['SpeedLimit_new', 'lanes_new', 'BikeFacility','AreaType'], \n",
    "          right_on=['SpeedLimit', 'Lanes', 'BikeFacility', 'AreaType'], how='left')"
   ]
  },
  {
   "cell_type": "code",
   "execution_count": 97,
   "metadata": {},
   "outputs": [
    {
     "data": {
      "text/plain": [
       "61105"
      ]
     },
     "execution_count": 97,
     "metadata": {},
     "output_type": "execute_result"
    }
   ],
   "source": [
    "len(gdf)"
   ]
  },
  {
   "cell_type": "code",
   "execution_count": 98,
   "metadata": {},
   "outputs": [],
   "source": [
    "# add impact of slope\n",
    "gdf.loc[(gdf['upslp'] > .02) & (gdf['upslp'] <= .04), 'Factor'] = gdf['Factor'] + 0.37\n",
    "gdf.loc[(gdf['upslp'] > .04) & (gdf['upslp'] <= .06), 'Factor'] = gdf['Factor'] + 1.2\n",
    "gdf.loc[(gdf['upslp'] > .06), 'Factor'] = gdf['Factor'] + 3.2"
   ]
  },
  {
   "cell_type": "code",
   "execution_count": 99,
   "metadata": {},
   "outputs": [],
   "source": [
    "# Assign LTS based on stress factor\n",
    "gdf.loc[gdf['Factor'] < 0.1, 'LTS'] = 1\n",
    "gdf.loc[(gdf['Factor'] >= 0.1) & (gdf['Factor'] < 0.3), 'LTS'] = 2\n",
    "gdf.loc[(gdf['Factor'] >= 0.3) & (gdf['Factor'] < 0.6), 'LTS'] = 3\n",
    "gdf.loc[gdf['Factor'] >= 0.6, 'LTS'] = 4"
   ]
  },
  {
   "cell_type": "code",
   "execution_count": 100,
   "metadata": {},
   "outputs": [],
   "source": [
    "# Create new column names because ArcGIS is a dinosaur that can't handle more than 10 character headers\n",
    "gdf.rename(columns={'BikeFacility':'bkfac', 'SpeedLimit':'speed'}, inplace=True)"
   ]
  },
  {
   "cell_type": "code",
   "execution_count": 101,
   "metadata": {},
   "outputs": [
    {
     "data": {
      "text/html": [
       "<div>\n",
       "<style scoped>\n",
       "    .dataframe tbody tr th:only-of-type {\n",
       "        vertical-align: middle;\n",
       "    }\n",
       "\n",
       "    .dataframe tbody tr th {\n",
       "        vertical-align: top;\n",
       "    }\n",
       "\n",
       "    .dataframe thead th {\n",
       "        text-align: right;\n",
       "    }\n",
       "</style>\n",
       "<table border=\"1\" class=\"dataframe\">\n",
       "  <thead>\n",
       "    <tr style=\"text-align: right;\">\n",
       "      <th></th>\n",
       "      <th>ij</th>\n",
       "      <th>upslp_IJ</th>\n",
       "      <th>bkfac_IJ</th>\n",
       "      <th>bkfac_IJ</th>\n",
       "      <th>Lanes_IJ</th>\n",
       "      <th>speed_IJ</th>\n",
       "      <th>Factor_IJ</th>\n",
       "      <th>LTS_IJ</th>\n",
       "      <th>geometry</th>\n",
       "      <th>PSRCEdgeID</th>\n",
       "      <th>upslp_JI</th>\n",
       "      <th>bkfac_JI</th>\n",
       "      <th>bkfac_JI</th>\n",
       "      <th>Lanes_JI</th>\n",
       "      <th>speed_JI</th>\n",
       "      <th>Factor_JI</th>\n",
       "      <th>LTS_JI</th>\n",
       "    </tr>\n",
       "  </thead>\n",
       "  <tbody>\n",
       "    <tr>\n",
       "      <th>0</th>\n",
       "      <td>79117-79004</td>\n",
       "      <td>0.186476</td>\n",
       "      <td>0.0</td>\n",
       "      <td>NoBikeFacility</td>\n",
       "      <td>2</td>\n",
       "      <td>25</td>\n",
       "      <td>3.4</td>\n",
       "      <td>4.0</td>\n",
       "      <td>LINESTRING (1274401.412 310281.765, 1274386.64...</td>\n",
       "      <td>131369.0</td>\n",
       "      <td>0.000000</td>\n",
       "      <td>0.0</td>\n",
       "      <td>NoBikeFacility</td>\n",
       "      <td>2.0</td>\n",
       "      <td>25.0</td>\n",
       "      <td>0.2</td>\n",
       "      <td>2.0</td>\n",
       "    </tr>\n",
       "    <tr>\n",
       "      <th>1</th>\n",
       "      <td>79004-72460</td>\n",
       "      <td>0.002948</td>\n",
       "      <td>0.0</td>\n",
       "      <td>NoBikeFacility</td>\n",
       "      <td>2</td>\n",
       "      <td>25</td>\n",
       "      <td>0.2</td>\n",
       "      <td>2.0</td>\n",
       "      <td>LINESTRING (1274354.882 310296.588, 1274316.11...</td>\n",
       "      <td>131706.0</td>\n",
       "      <td>0.071124</td>\n",
       "      <td>0.0</td>\n",
       "      <td>NoBikeFacility</td>\n",
       "      <td>2.0</td>\n",
       "      <td>25.0</td>\n",
       "      <td>3.4</td>\n",
       "      <td>4.0</td>\n",
       "    </tr>\n",
       "    <tr>\n",
       "      <th>2</th>\n",
       "      <td>29618-29636</td>\n",
       "      <td>0.089987</td>\n",
       "      <td>1.0</td>\n",
       "      <td>BikeLane</td>\n",
       "      <td>2</td>\n",
       "      <td>35</td>\n",
       "      <td>3.7</td>\n",
       "      <td>4.0</td>\n",
       "      <td>LINESTRING (1219375.412 78002.235, 1219408.000...</td>\n",
       "      <td>162329.0</td>\n",
       "      <td>0.000000</td>\n",
       "      <td>1.0</td>\n",
       "      <td>BikeLane</td>\n",
       "      <td>2.0</td>\n",
       "      <td>35.0</td>\n",
       "      <td>0.5</td>\n",
       "      <td>3.0</td>\n",
       "    </tr>\n",
       "    <tr>\n",
       "      <th>3</th>\n",
       "      <td>29587-29618</td>\n",
       "      <td>0.103284</td>\n",
       "      <td>1.0</td>\n",
       "      <td>BikeLane</td>\n",
       "      <td>2</td>\n",
       "      <td>35</td>\n",
       "      <td>3.7</td>\n",
       "      <td>4.0</td>\n",
       "      <td>LINESTRING (1219343.176 77831.706, 1219356.176...</td>\n",
       "      <td>162314.0</td>\n",
       "      <td>0.000000</td>\n",
       "      <td>1.0</td>\n",
       "      <td>BikeLane</td>\n",
       "      <td>2.0</td>\n",
       "      <td>35.0</td>\n",
       "      <td>0.5</td>\n",
       "      <td>3.0</td>\n",
       "    </tr>\n",
       "    <tr>\n",
       "      <th>4</th>\n",
       "      <td>29636-29683</td>\n",
       "      <td>0.074871</td>\n",
       "      <td>1.0</td>\n",
       "      <td>BikeLane</td>\n",
       "      <td>2</td>\n",
       "      <td>35</td>\n",
       "      <td>3.7</td>\n",
       "      <td>4.0</td>\n",
       "      <td>LINESTRING (1219408.000 78189.412, 1219453.588...</td>\n",
       "      <td>162438.0</td>\n",
       "      <td>0.000000</td>\n",
       "      <td>1.0</td>\n",
       "      <td>BikeLane</td>\n",
       "      <td>2.0</td>\n",
       "      <td>35.0</td>\n",
       "      <td>0.5</td>\n",
       "      <td>3.0</td>\n",
       "    </tr>\n",
       "  </tbody>\n",
       "</table>\n",
       "</div>"
      ],
      "text/plain": [
       "            ij  upslp_IJ bkfac_IJ        bkfac_IJ  Lanes_IJ  speed_IJ  \\\n",
       "0  79117-79004  0.186476      0.0  NoBikeFacility         2        25   \n",
       "1  79004-72460  0.002948      0.0  NoBikeFacility         2        25   \n",
       "2  29618-29636  0.089987      1.0        BikeLane         2        35   \n",
       "3  29587-29618  0.103284      1.0        BikeLane         2        35   \n",
       "4  29636-29683  0.074871      1.0        BikeLane         2        35   \n",
       "\n",
       "   Factor_IJ  LTS_IJ                                           geometry  \\\n",
       "0        3.4     4.0  LINESTRING (1274401.412 310281.765, 1274386.64...   \n",
       "1        0.2     2.0  LINESTRING (1274354.882 310296.588, 1274316.11...   \n",
       "2        3.7     4.0  LINESTRING (1219375.412 78002.235, 1219408.000...   \n",
       "3        3.7     4.0  LINESTRING (1219343.176 77831.706, 1219356.176...   \n",
       "4        3.7     4.0  LINESTRING (1219408.000 78189.412, 1219453.588...   \n",
       "\n",
       "   PSRCEdgeID  upslp_JI bkfac_JI        bkfac_JI  Lanes_JI  speed_JI  \\\n",
       "0    131369.0  0.000000      0.0  NoBikeFacility       2.0      25.0   \n",
       "1    131706.0  0.071124      0.0  NoBikeFacility       2.0      25.0   \n",
       "2    162329.0  0.000000      1.0        BikeLane       2.0      35.0   \n",
       "3    162314.0  0.000000      1.0        BikeLane       2.0      35.0   \n",
       "4    162438.0  0.000000      1.0        BikeLane       2.0      35.0   \n",
       "\n",
       "   Factor_JI  LTS_JI  \n",
       "0        0.2     2.0  \n",
       "1        3.4     4.0  \n",
       "2        0.5     3.0  \n",
       "3        0.5     3.0  \n",
       "4        0.5     3.0  "
      ]
     },
     "execution_count": 101,
     "metadata": {},
     "output_type": "execute_result"
    }
   ],
   "source": [
    "gdf['ij'] = gdf['i'].astype('str')+'-'+gdf['j'].astype('str')\n",
    "gdf['ji'] = gdf['j'].astype('str')+'-'+gdf['i'].astype('str')\n",
    "\n",
    "gdf['ji_exists'] = 0\n",
    "gdf.loc[gdf['ji'].isin(gdf['ij']), 'ji_exists'] = 1\n",
    "\n",
    "# Get a ji dataframe\n",
    "gdf_ji = gdf[gdf['ji_exists']==1].copy()\n",
    "gdf_ji.drop(['ij','geometry'], axis=1, inplace=True)\n",
    "gdf_ji.rename(columns={'ji': 'ij'}, inplace=True)\n",
    "\n",
    "# merge that to gdf\n",
    "\n",
    "gdf_new = gdf.copy()\n",
    "gdf_new = gdf_new[['ij','upslp',  'bkfac','Lanes', 'speed', 'Factor','LTS','geometry','PSRCEdgeID']].merge(gdf_ji[['ij','upslp', 'bkfac','Lanes', 'speed', 'Factor', 'LTS',]],\n",
    "                                                                                      how='left', on='ij', suffixes=['_IJ','_JI'])\n",
    "gdf_new.head()"
   ]
  },
  {
   "cell_type": "code",
   "execution_count": 102,
   "metadata": {},
   "outputs": [],
   "source": [
    "# for col in ['i','j']:\n",
    "#     gdf_new[col] = gdf_new[col].astype('int32')\n",
    "# gdf_new.to_file('2023_network_bike_ped_stress_psrc.shp')"
   ]
  },
  {
   "cell_type": "code",
   "execution_count": 103,
   "metadata": {},
   "outputs": [
    {
     "data": {
      "text/plain": [
       "61105"
      ]
     },
     "execution_count": 103,
     "metadata": {},
     "output_type": "execute_result"
    }
   ],
   "source": [
    "len(gdf)"
   ]
  },
  {
   "cell_type": "code",
   "execution_count": 110,
   "metadata": {},
   "outputs": [],
   "source": [
    "# Merge with WSDOT and ped notebooks (created in separate notebooks)\n",
    "gdf_ped = gpd.read_file('2023_ped_stress_index.shp')\n",
    "gdf_wsdot = gpd.read_file('2023_network_bike_stress_wsdot.shp')"
   ]
  },
  {
   "cell_type": "code",
   "execution_count": 111,
   "metadata": {},
   "outputs": [],
   "source": [
    "gdf_merge = gdf_new.merge(gdf_wsdot[['ij','BTLS_IJ','BTLS_JI']], on='ij', how='left')\n",
    "gdf_merge = gdf_merge.merge(gdf_ped[['ij','PTLS_IJ','PTLS_JI']], on='ij', how='left')"
   ]
  },
  {
   "cell_type": "code",
   "execution_count": 112,
   "metadata": {},
   "outputs": [],
   "source": [
    "gdf_merge.rename(columns={'LTS_IJ':'LTS_IJ_psrc', 'LTS_JI':'LTS_JI_psrc',\n",
    "                          'BTLS_IJ': 'LTS_IJ_wsdot', 'BTLS_JI': 'LTS_JI_wsdot'}, inplace=True)"
   ]
  },
  {
   "cell_type": "code",
   "execution_count": 114,
   "metadata": {},
   "outputs": [],
   "source": [
    "# gdf_merge.to_file('2023_bike_ped_stress.shp')\n",
    "gdf_merge.to_csv(r'T:\\2024October\\brice\\2023_bike_ped_stress_10_23_24.csv')"
   ]
  },
  {
   "cell_type": "code",
   "execution_count": null,
   "metadata": {},
   "outputs": [],
   "source": []
  }
 ],
 "metadata": {
  "kernelspec": {
   "display_name": "summary",
   "language": "python",
   "name": "python3"
  },
  "language_info": {
   "codemirror_mode": {
    "name": "ipython",
    "version": 3
   },
   "file_extension": ".py",
   "mimetype": "text/x-python",
   "name": "python",
   "nbconvert_exporter": "python",
   "pygments_lexer": "ipython3",
   "version": "3.7.10"
  }
 },
 "nbformat": 4,
 "nbformat_minor": 2
}
