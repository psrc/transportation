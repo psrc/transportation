{
 "cells": [
  {
   "cell_type": "code",
   "execution_count": 124,
   "metadata": {},
   "outputs": [],
   "source": [
    "import pandas as pd\n",
    "import geopandas as gpd\n",
    "import psrcelmerpy"
   ]
  },
  {
   "cell_type": "code",
   "execution_count": 125,
   "metadata": {},
   "outputs": [],
   "source": [
    "# Load TransRefEdges geodata\n",
    "eg_conn = psrcelmerpy.ElmerGeoConn()\n",
    "gdf = eg_conn.read_geolayer('transrefedges')\n",
    "\n",
    "# Load Mode Attributes table\n",
    "df_mode_attr = eg_conn.get_table(schema='dbo', table_name='modeattributes')"
   ]
  },
  {
   "cell_type": "code",
   "execution_count": 126,
   "metadata": {},
   "outputs": [],
   "source": [
    "# Merge mode attributes to TransRefEdges\n",
    "gdf = gdf.merge(df_mode_attr, on='PSRCEdgeID', how='left')"
   ]
  },
  {
   "cell_type": "code",
   "execution_count": 134,
   "metadata": {},
   "outputs": [],
   "source": [
    "# Load bike stress table, adapted from Lowry\n",
    "df_data = pd.read_csv('bike_stress_table.csv')"
   ]
  },
  {
   "cell_type": "code",
   "execution_count": 133,
   "metadata": {},
   "outputs": [],
   "source": [
    "# FIXME: transRefEdges lanes are directional and Lowry data is bi-directional\n",
    "# "
   ]
  },
  {
   "cell_type": "code",
   "execution_count": 106,
   "metadata": {},
   "outputs": [
    {
     "data": {
      "text/plain": [
       "array(['NoBikeFacility', 'Sharrows', 'BikeLane', 'BufferedBikeLane',\n",
       "       'ProtectedBikeLane', 'SharedUsePath'], dtype=object)"
      ]
     },
     "execution_count": 106,
     "metadata": {},
     "output_type": "execute_result"
    }
   ],
   "source": [
    "# Reformat speed limit and lanes to match the bike stress data\n",
    "# Creating a new column for speed limits where minimum is capped at 25 and max at 35\n",
    "gdf['IJSpeedLimit_new'] = gdf['IJSpeedLimit'].copy()\n",
    "gdf.loc[gdf['IJSpeedLimit'] <= 25, 'IJSpeedLimit_new'] = 25\n",
    "gdf.loc[gdf['IJSpeedLimit'] >= 35, 'IJSpeedLimit_new'] = 35\n",
    "\n",
    "# Set maximum lanes at 6 and minimum at 2\n",
    "\n",
    "gdf['IJLanesGPAM_new'] = gdf['IJLanesGPAM'].copy().astype('int')\n",
    "gdf.loc[gdf['IJLanesGPAM'] >= 6, 'IJLanesGPAM_new'] = 6\n",
    "gdf.loc[gdf['IJLanesGPAM'] <2, 'IJLanesGPAM_new'] = 2\n",
    "\n",
    "# Lowry has different values for neighborhood street for each bike facility type\n",
    "# Create a flag for an local street\n",
    "gdf['LocalStreet'] = 0\n",
    "gdf.loc[gdf['FacilityType'] == 9, 'LocalStreet'] = 1\n",
    "# gdf['FacilityType'].unique()\n",
    "\n",
    "# If no bike types assign 0\n",
    "gdf.loc[gdf['IJBikeType'].isnull(), 'IJBikeType'] = 0\n",
    "\n",
    "gdf['IJBikeType'] = gdf['IJBikeType'].astype('int')"
   ]
  },
  {
   "cell_type": "code",
   "execution_count": 118,
   "metadata": {},
   "outputs": [],
   "source": [
    "# Define transRefEdges facility types to match the study definitions\n",
    "\n",
    "bike_type_map = {\n",
    "    0: 'NoBikeFacility',    # No Bike Lane\n",
    "    1: 'BikeLane',    # Striped Bike Lane\n",
    "    2: 'ProtectedBikeLane',    # Protected Bike Lane\n",
    "    3: 'NoBikeFacility',    # Paved Shoulder\n",
    "    4: 'Sharrows',    # Shared Lane Markings\n",
    "    5: 'NoBikeFacility',    # Bike Provision Undefined\n",
    "    6: 'NoBikeFacility',    # Bike Provision Undefined\n",
    "    8: 'SharedUsePath',    # Shared Use Path\n",
    "    9: 'BufferedBikeLane',    # Buffered Bike Lane \n",
    "    10: 'NoBikeFacility',     # Neighborhood Greenway\n",
    "    \n",
    "}\n",
    "\n",
    "# Create a mapping of local vs other area type\n",
    "area_type_map = {\n",
    "    0: 'Other',\n",
    "    1: 'Neighborhood'\n",
    "}\n",
    "\n",
    "# Create new fields that use the bike facility and area type mapping\n",
    "gdf['IJ_BikeFacility'] = gdf['IJBikeType'].map(bike_type_map)\n",
    "gdf['IJAreaType'] = gdf['LocalStreet'].map(area_type_map)\n",
    "\n",
    "# We will follow this designation for any local street with speeds 30 mph or less and 2 lanes (1 in each direction)\n",
    "# If speed limit > 30, set area type to non-neighborhood\n",
    "gdf.loc[(gdf['IJSpeedLimit']>30, 'IJAreaType')] = 'Other'\n",
    "\n",
    "# If number of lanes > 2, set area type to non-neighborhood\n",
    "# FIXME: should probably just be 1 lane in each direction\n",
    "gdf.loc[(gdf['IJLanesGPAM']>2, 'IJAreaType')] = 'Other'\n",
    "\n",
    "# Merge to df_data to get stress values\n",
    "gdf = gdf.merge(df_data, left_on=['IJSpeedLimit_new', 'IJLanesGPAM_new', 'IJ_BikeFacility','IJAreaType'], \n",
    "          right_on=['SpeedLimit', 'Lanes', 'BikeFacility', 'AreaType'], how='left')"
   ]
  },
  {
   "cell_type": "code",
   "execution_count": 120,
   "metadata": {},
   "outputs": [],
   "source": [
    "# Assign LTS based on stress factor\n",
    "gdf.loc[gdf['Factor'] < 0.1, 'LTS'] = 1\n",
    "gdf.loc[(gdf['Factor'] >= 0.1) & (gdf['Factor'] < 0.3), 'LTS'] = 2\n",
    "gdf.loc[(gdf['Factor'] >= 0.3) & (gdf['Factor'] < 0.6), 'LTS'] = 3\n",
    "gdf.loc[gdf['Factor'] >= 0.6, 'LTS'] = 4"
   ]
  },
  {
   "cell_type": "code",
   "execution_count": null,
   "metadata": {},
   "outputs": [],
   "source": [
    "# FIXME: add slope "
   ]
  }
 ],
 "metadata": {
  "kernelspec": {
   "display_name": "summary",
   "language": "python",
   "name": "python3"
  },
  "language_info": {
   "codemirror_mode": {
    "name": "ipython",
    "version": 3
   },
   "file_extension": ".py",
   "mimetype": "text/x-python",
   "name": "python",
   "nbconvert_exporter": "python",
   "pygments_lexer": "ipython3",
   "version": "3.7.10"
  }
 },
 "nbformat": 4,
 "nbformat_minor": 2
}
