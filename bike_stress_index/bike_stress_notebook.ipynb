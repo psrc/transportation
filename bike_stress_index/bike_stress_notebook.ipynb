{
 "cells": [
  {
   "cell_type": "code",
   "execution_count": 142,
   "metadata": {},
   "outputs": [],
   "source": [
    "import numpy as np\n",
    "import pandas as pd\n",
    "import geopandas as gpd\n",
    "import psrcelmerpy"
   ]
  },
  {
   "cell_type": "code",
   "execution_count": 143,
   "metadata": {},
   "outputs": [],
   "source": [
    "eg_conn = psrcelmerpy.ElmerGeoConn()\n",
    "\n",
    "# Load network shapefile\n",
    "gdf = gpd.read_file(r'R:\\e2projects_two\\SoundCast\\Inputs\\dev\\networks\\2023\\network_2023_v2\\shapefiles\\AM\\AM_edges.shp')"
   ]
  },
  {
   "cell_type": "code",
   "execution_count": 146,
   "metadata": {},
   "outputs": [],
   "source": [
    "# Load bike stress table, adapted from Lowry\n",
    "# https://www1.coe.neu.edu/~pfurth/Furth%20papers/2016%20Prioritizing%20to%20improve%20low-stress%20network%20connectivity%20Lowry,%20Furth,%20Hadden-Loh.pdf\n",
    "\n",
    "df_data = pd.read_csv('bike_stress_table.csv')"
   ]
  },
  {
   "cell_type": "code",
   "execution_count": 148,
   "metadata": {},
   "outputs": [],
   "source": [
    "# Reformat speed limit and lanes to match the bike stress data\n",
    "# Creating a new column for speed limits where minimum is capped at 25 and max at 35\n",
    "gdf['SpeedLimit_new'] = gdf['ul2'].copy()\n",
    "gdf.loc[gdf['ul2'] <= 25, 'SpeedLimit_new'] = 25\n",
    "gdf.loc[gdf['ul2'] >= 35, 'SpeedLimit_new'] = 35\n",
    "\n",
    "# Set maximum lanes at 6 and minimum at 2\n",
    "\n",
    "gdf['lanes_new'] = gdf['lanes'].copy().astype('int')\n",
    "gdf.loc[gdf['lanes'] >= 6, 'lanes_new'] = 6\n",
    "gdf.loc[gdf['lanes'] <2, 'lanes_new'] = 2\n",
    "\n",
    "# Lowry has different values for neighborhood street for each bike facility type\n",
    "# Create a flag for an local street\n",
    "gdf['LocalStreet'] = 0\n",
    "gdf.loc[gdf['FacilityTy'] == 9, 'LocalStreet'] = 1\n",
    "# gdf['FacilityType'].unique()"
   ]
  },
  {
   "cell_type": "code",
   "execution_count": 149,
   "metadata": {},
   "outputs": [],
   "source": [
    "gdf['FacilityTy'] = gdf['FacilityTy'].astype('int')\n",
    "gdf['FacilityTy'].unique()\n",
    "\n",
    "# Remove centroid connectors and freeways\n",
    "facility_type_lookup = {\n",
    "    1:'Freeway',   # Interstate\n",
    "    2:'Freeway',   # Ohter Freeway\n",
    "    3:'Freeway', # Expressway\n",
    "    4:'Ramp',\n",
    "    5:'Arterial',    # Principal arterial\n",
    "    6:'Arterial',    # Minor Arterial\n",
    "    7:'Collector',    # Major Collector\n",
    "    8:'Collector',    # Minor Collector\n",
    "    9:'Collector',   # Local\n",
    "    10:'Busway',\n",
    "    11:'Non-Motor',\n",
    "    12:'Light Rail',\n",
    "    13:'Commuter Rail',\n",
    "    15:'Ferry',\n",
    "    16:'Passenger Only Ferry',\n",
    "    17:'Connector',    # centroid connector\n",
    "    18:'Connector',    # facility connector\n",
    "    19:'HOV',    # HOV Only Freeway\n",
    "    20:'HOV'    # HOV Flag\n",
    "    }\n",
    "\n",
    "gdf = gdf[gdf['FacilityTy'].isin([5,6,7,8,9,11])]"
   ]
  },
  {
   "cell_type": "code",
   "execution_count": 150,
   "metadata": {},
   "outputs": [],
   "source": [
    "# Intersect with urban growth area\n",
    "gdf_growth_area = eg_conn.read_geolayer('urban_growth_area')\n",
    "gdf_growth_area = gdf_growth_area[['county_name','geometry']].to_crs('EPSG:2285')\n",
    "\n",
    "gdf = gpd.sjoin(gdf, gdf_growth_area, how=\"left\")\n",
    "\n",
    "gdf['rural'] = 'not_rural'\n",
    "gdf.loc[gdf['county_name'].isnull(),'rural'] = 'rural'"
   ]
  },
  {
   "cell_type": "code",
   "execution_count": 151,
   "metadata": {},
   "outputs": [],
   "source": [
    "# Define transRefEdges facility types to match the study definitions\n",
    "\n",
    "bike_type_map = {\n",
    "    0: 'NoBikeFacility',    # No Bike Lane\n",
    "    1: 'BikeLane',    # Striped Bike Lane\n",
    "    2: 'ProtectedBikeLane',    # Protected Bike Lane\n",
    "    3: 'NoBikeFacility',    # Paved Shoulder\n",
    "    4: 'Sharrows',    # Shared Lane Markings\n",
    "    5: 'NoBikeFacility',    # Bike Provision Undefined\n",
    "    6: 'NoBikeFacility',    # Bike Provision Undefined\n",
    "    8: 'SharedUsePath',    # Shared Use Path\n",
    "    9: 'BufferedBikeLane',    # Buffered Bike Lane \n",
    "    10: 'NoBikeFacility',     # Neighborhood Greenway\n",
    "    \n",
    "}\n",
    "\n",
    "# Create a mapping of local vs other area type\n",
    "area_type_map = {\n",
    "    0: 'Other',\n",
    "    1: 'Neighborhood'\n",
    "}\n",
    "\n",
    "# Create new fields that use the bike facility and area type mapping\n",
    "gdf['BikeFacility'] = gdf['bkfac'].map(bike_type_map)\n",
    "gdf['AreaType'] = gdf['LocalStreet'].map(area_type_map)\n",
    "\n",
    "# We will follow this designation for any local street with speeds 30 mph or less and 2 lanes (1 in each direction)\n",
    "# If speed limit > 30, set area type to non-neighborhood\n",
    "gdf.loc[(gdf['SpeedLimit_new']>30, 'AreaType')] = 'Other'\n",
    "\n",
    "# If number of lanes > 2, set area type to non-neighborhood\n",
    "# FIXME: should probably just be 1 lane in each direction\n",
    "gdf.loc[(gdf['lanes_new']>2, 'AreaType')] = 'Other'\n",
    "\n",
    "# If in rural area, treat paved shoulder as bike lanes\n",
    "gdf.loc[((gdf['rural']=='rural')&(gdf['bkfac']==3)), 'BikeFacility'] = 'BikeLane'\n",
    "\n",
    "# Merge to df_data to get stress values\n",
    "gdf = gdf.merge(df_data, left_on=['SpeedLimit_new', 'lanes_new', 'BikeFacility','AreaType'], \n",
    "          right_on=['SpeedLimit', 'Lanes', 'BikeFacility', 'AreaType'], how='left')"
   ]
  },
  {
   "cell_type": "code",
   "execution_count": 152,
   "metadata": {},
   "outputs": [],
   "source": [
    "# add impact of slope\n",
    "gdf.loc[(gdf['upslp'] > .02) & (gdf['upslp'] <= .04), 'Factor'] = gdf['Factor'] + 0.37\n",
    "gdf.loc[(gdf['upslp'] > .04) & (gdf['upslp'] <= .06), 'Factor'] = gdf['Factor'] + 1.2\n",
    "gdf.loc[(gdf['upslp'] > .06), 'Factor'] = gdf['Factor'] + 3.2"
   ]
  },
  {
   "cell_type": "code",
   "execution_count": 153,
   "metadata": {},
   "outputs": [],
   "source": [
    "# Assign LTS based on stress factor\n",
    "gdf.loc[gdf['Factor'] < 0.1, 'LTS'] = 1\n",
    "gdf.loc[(gdf['Factor'] >= 0.1) & (gdf['Factor'] < 0.3), 'LTS'] = 2\n",
    "gdf.loc[(gdf['Factor'] >= 0.3) & (gdf['Factor'] < 0.6), 'LTS'] = 3\n",
    "gdf.loc[gdf['Factor'] >= 0.6, 'LTS'] = 4"
   ]
  },
  {
   "cell_type": "code",
   "execution_count": 154,
   "metadata": {},
   "outputs": [],
   "source": []
  },
  {
   "cell_type": "code",
   "execution_count": 155,
   "metadata": {},
   "outputs": [
    {
     "name": "stderr",
     "output_type": "stream",
     "text": [
      "c:\\Users\\Modeller\\AppData\\Local\\anaconda3\\envs\\summary\\lib\\site-packages\\ipykernel_launcher.py:1: UserWarning: Column names longer than 10 characters will be truncated when saved to ESRI Shapefile.\n",
      "  \"\"\"Entry point for launching an IPython kernel.\n"
     ]
    }
   ],
   "source": [
    "gdf.to_file('2023_network_bike_stress.shp')"
   ]
  }
 ],
 "metadata": {
  "kernelspec": {
   "display_name": "summary",
   "language": "python",
   "name": "python3"
  },
  "language_info": {
   "codemirror_mode": {
    "name": "ipython",
    "version": 3
   },
   "file_extension": ".py",
   "mimetype": "text/x-python",
   "name": "python",
   "nbconvert_exporter": "python",
   "pygments_lexer": "ipython3",
   "version": "3.7.10"
  }
 },
 "nbformat": 4,
 "nbformat_minor": 2
}
