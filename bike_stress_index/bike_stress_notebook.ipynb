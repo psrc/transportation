{
 "cells": [
  {
   "cell_type": "code",
   "execution_count": 2,
   "metadata": {},
   "outputs": [],
   "source": [
    "import pandas as pd\n",
    "import geopandas as gpd\n",
    "import psrcelmerpy"
   ]
  },
  {
   "cell_type": "code",
   "execution_count": 3,
   "metadata": {},
   "outputs": [],
   "source": [
    "eg_conn = psrcelmerpy.ElmerGeoConn()\n",
    "gdf = eg_conn.read_geolayer('micen')"
   ]
  },
  {
   "cell_type": "code",
   "execution_count": 5,
   "metadata": {},
   "outputs": [],
   "source": [
    "eg_conn = psrcelmerpy.ElmerGeoConn()\n",
    "gdf = eg_conn.read_geolayer('transrefedges')"
   ]
  },
  {
   "cell_type": "code",
   "execution_count": 23,
   "metadata": {},
   "outputs": [],
   "source": [
    "df_mode_attr = eg_conn.get_table(schema='dbo', table_name='modeattributes')"
   ]
  },
  {
   "cell_type": "code",
   "execution_count": 20,
   "metadata": {},
   "outputs": [
    {
     "data": {
      "text/html": [
       "<div>\n",
       "<style scoped>\n",
       "    .dataframe tbody tr th:only-of-type {\n",
       "        vertical-align: middle;\n",
       "    }\n",
       "\n",
       "    .dataframe tbody tr th {\n",
       "        vertical-align: top;\n",
       "    }\n",
       "\n",
       "    .dataframe thead th {\n",
       "        text-align: right;\n",
       "    }\n",
       "</style>\n",
       "<table border=\"1\" class=\"dataframe\">\n",
       "  <thead>\n",
       "    <tr style=\"text-align: right;\">\n",
       "      <th></th>\n",
       "      <th>OBJECTID</th>\n",
       "      <th>Enabled</th>\n",
       "      <th>PSRCEdgeID</th>\n",
       "      <th>FTRsegID</th>\n",
       "      <th>FacilityType</th>\n",
       "      <th>NewFacilityType</th>\n",
       "      <th>INode</th>\n",
       "      <th>JNode</th>\n",
       "      <th>InServiceDate</th>\n",
       "      <th>OutServiceDate</th>\n",
       "      <th>...</th>\n",
       "      <th>RegShared</th>\n",
       "      <th>FGTS</th>\n",
       "      <th>GlobalID</th>\n",
       "      <th>created_user</th>\n",
       "      <th>created_date</th>\n",
       "      <th>last_edited_user</th>\n",
       "      <th>last_edited_date</th>\n",
       "      <th>SDE_STATE_ID</th>\n",
       "      <th>Shape</th>\n",
       "      <th>geometry</th>\n",
       "    </tr>\n",
       "  </thead>\n",
       "  <tbody>\n",
       "    <tr>\n",
       "      <th>0</th>\n",
       "      <td>1</td>\n",
       "      <td>1.0</td>\n",
       "      <td>1</td>\n",
       "      <td>NaN</td>\n",
       "      <td>17</td>\n",
       "      <td>5.0</td>\n",
       "      <td>3591</td>\n",
       "      <td>19615</td>\n",
       "      <td>2000</td>\n",
       "      <td>2050</td>\n",
       "      <td>...</td>\n",
       "      <td>NaN</td>\n",
       "      <td>NaN</td>\n",
       "      <td>FE1A83A8-7CB4-473A-ACEC-1D77BACF86BF</td>\n",
       "      <td>None</td>\n",
       "      <td>None</td>\n",
       "      <td>None</td>\n",
       "      <td>NaT</td>\n",
       "      <td>0</td>\n",
       "      <td>LINESTRING (1201604.1764705882 213735.58823529...</td>\n",
       "      <td>LINESTRING (-122.61115 47.57205, -122.61165 47...</td>\n",
       "    </tr>\n",
       "    <tr>\n",
       "      <th>1</th>\n",
       "      <td>2</td>\n",
       "      <td>1.0</td>\n",
       "      <td>2</td>\n",
       "      <td>NaN</td>\n",
       "      <td>17</td>\n",
       "      <td>5.0</td>\n",
       "      <td>3591</td>\n",
       "      <td>19197</td>\n",
       "      <td>2000</td>\n",
       "      <td>2050</td>\n",
       "      <td>...</td>\n",
       "      <td>NaN</td>\n",
       "      <td>NaN</td>\n",
       "      <td>C730A5D7-DBEB-4405-BBD4-22DA1804B2DB</td>\n",
       "      <td>None</td>\n",
       "      <td>None</td>\n",
       "      <td>None</td>\n",
       "      <td>NaT</td>\n",
       "      <td>0</td>\n",
       "      <td>LINESTRING (1201604.1764705882 213735.58823529...</td>\n",
       "      <td>LINESTRING (-122.61115 47.57205, -122.61172 47...</td>\n",
       "    </tr>\n",
       "  </tbody>\n",
       "</table>\n",
       "<p>2 rows × 45 columns</p>\n",
       "</div>"
      ],
      "text/plain": [
       "   OBJECTID  Enabled  PSRCEdgeID  FTRsegID  FacilityType  NewFacilityType  \\\n",
       "0         1      1.0           1       NaN            17              5.0   \n",
       "1         2      1.0           2       NaN            17              5.0   \n",
       "\n",
       "   INode  JNode  InServiceDate  OutServiceDate  ... RegShared  FGTS  \\\n",
       "0   3591  19615           2000            2050  ...       NaN   NaN   \n",
       "1   3591  19197           2000            2050  ...       NaN   NaN   \n",
       "\n",
       "                               GlobalID  created_user created_date  \\\n",
       "0  FE1A83A8-7CB4-473A-ACEC-1D77BACF86BF          None         None   \n",
       "1  C730A5D7-DBEB-4405-BBD4-22DA1804B2DB          None         None   \n",
       "\n",
       "   last_edited_user  last_edited_date SDE_STATE_ID  \\\n",
       "0              None               NaT            0   \n",
       "1              None               NaT            0   \n",
       "\n",
       "                                               Shape  \\\n",
       "0  LINESTRING (1201604.1764705882 213735.58823529...   \n",
       "1  LINESTRING (1201604.1764705882 213735.58823529...   \n",
       "\n",
       "                                            geometry  \n",
       "0  LINESTRING (-122.61115 47.57205, -122.61165 47...  \n",
       "1  LINESTRING (-122.61115 47.57205, -122.61172 47...  \n",
       "\n",
       "[2 rows x 45 columns]"
      ]
     },
     "execution_count": 20,
     "metadata": {},
     "output_type": "execute_result"
    }
   ],
   "source": [
    "# Merge mode attributes to network\n",
    "gdf.head(2)"
   ]
  },
  {
   "cell_type": "code",
   "execution_count": 25,
   "metadata": {},
   "outputs": [],
   "source": [
    "# gdf = gdf.merge(df_mode_attr, on='PSRCEdgeID', how='left')"
   ]
  },
  {
   "cell_type": "code",
   "execution_count": null,
   "metadata": {},
   "outputs": [],
   "source": [
    "# Level of stress definition\n",
    "# Table 3 from MTI report, https://transweb.sjsu.edu/sites/default/files/1005-low-stress-bicycling-network-connectivity.pdf\n",
    "# Criteria for Bike Lanes not Alongside a Parking Lane\n",
    "# Number of Lanes\n",
    "# 1: 1 lane per direction\n",
    "# 2: 2 lanes per direction if separated by raised median\n",
    "# 3: > 2 lanes per direction or 2 without a separating median\n",
    "# 4: > 2 laines\n",
    "\n",
    "# Bike Lane Width\n",
    "\n",
    "# Speed Limit\n",
    "\n",
    "# Bike lane blockage from commercial areas...\n",
    "\n",
    "# Use Table 4 for riding in mixed traffic (no bike lanes)\n",
    "\n",
    "# This does not include stress from crossings\n"
   ]
  }
 ],
 "metadata": {
  "kernelspec": {
   "display_name": "summary",
   "language": "python",
   "name": "python3"
  },
  "language_info": {
   "codemirror_mode": {
    "name": "ipython",
    "version": 3
   },
   "file_extension": ".py",
   "mimetype": "text/x-python",
   "name": "python",
   "nbconvert_exporter": "python",
   "pygments_lexer": "ipython3",
   "version": "3.7.10"
  }
 },
 "nbformat": 4,
 "nbformat_minor": 2
}
