{
 "cells": [
  {
   "cell_type": "markdown",
   "metadata": {},
   "source": [
    "# Pedestrian Level of Service"
   ]
  },
  {
   "cell_type": "code",
   "execution_count": 109,
   "metadata": {},
   "outputs": [],
   "source": [
    "import numpy as np\n",
    "import pandas as pd\n",
    "import geopandas as gpd\n",
    "import psrcelmerpy"
   ]
  },
  {
   "cell_type": "code",
   "execution_count": 110,
   "metadata": {},
   "outputs": [],
   "source": [
    "# Round to nearest 5\n",
    "def myround(x, base=5):\n",
    "    return base * round(x/base)"
   ]
  },
  {
   "cell_type": "code",
   "execution_count": 111,
   "metadata": {},
   "outputs": [],
   "source": [
    "eg_conn = psrcelmerpy.ElmerGeoConn()\n",
    "\n",
    "# Load network shapefile\n",
    "gdf = gpd.read_file(r'R:\\e2projects_two\\SoundCast\\Inputs\\dev\\networks\\2023\\network_2023_v3\\shapefiles\\AM\\AM_edges.shp')\n",
    "\n",
    "# Reformat speed limit and lanes to match the bike stress data\n",
    "# Creating a new column for speed limits where minimum is capped at 25 and max at 35\n",
    "gdf['SpeedLimit_new'] = gdf['ul2'].copy()\n",
    "gdf.loc[gdf['ul2'] <= 20, 'SpeedLimit_new'] = 20\n",
    "gdf.loc[gdf['ul2'] >= 50, 'SpeedLimit_new'] = 50\n",
    "gdf['SpeedLimit_new'] = myround(gdf['SpeedLimit_new'].astype('int'))\n",
    "\n",
    "# Set maximum lanes at 6 and minimum atb 2\n",
    "gdf['lanes_new'] = gdf['lanes'].copy().astype('int')\n",
    "gdf.loc[gdf['lanes'] >= 3, 'lanes_new'] = 3\n",
    "gdf.loc[gdf['lanes'] <1, 'lanes_new'] = 1"
   ]
  },
  {
   "cell_type": "code",
   "execution_count": 112,
   "metadata": {},
   "outputs": [
    {
     "data": {
      "text/plain": [
       "array([20., 25., 40., 35., 30., 50., 45.])"
      ]
     },
     "execution_count": 112,
     "metadata": {},
     "output_type": "execute_result"
    }
   ],
   "source": [
    "gdf['SpeedLimit_new'].unique()"
   ]
  },
  {
   "cell_type": "code",
   "execution_count": 113,
   "metadata": {},
   "outputs": [
    {
     "data": {
      "text/plain": [
       "array([2, 1, 3])"
      ]
     },
     "execution_count": 113,
     "metadata": {},
     "output_type": "execute_result"
    }
   ],
   "source": [
    "gdf['lanes_new'].unique()"
   ]
  },
  {
   "cell_type": "code",
   "execution_count": 114,
   "metadata": {},
   "outputs": [],
   "source": [
    "df_data = pd.read_csv('wsdot_ped_stress_table.csv')"
   ]
  },
  {
   "cell_type": "code",
   "execution_count": 115,
   "metadata": {},
   "outputs": [
    {
     "data": {
      "text/plain": [
       "1501-3000      7\n",
       "3001-999999    7\n",
       "0-750          7\n",
       "0-999999       7\n",
       "7001-999999    7\n",
       "751-1500       7\n",
       "0-7000         7\n",
       "Name: AADT_class, dtype: int64"
      ]
     },
     "execution_count": 115,
     "metadata": {},
     "output_type": "execute_result"
    }
   ],
   "source": [
    "df_data.head()\n",
    "df_data['AADT_class'] = df_data['AADT_min'].astype('str')+'-'+df_data['AADT_max'].astype('str')\n",
    "df_data['AADT_class'].value_counts()"
   ]
  },
  {
   "cell_type": "code",
   "execution_count": 116,
   "metadata": {},
   "outputs": [],
   "source": [
    "# Load AADT from network_results\n",
    "df_network = pd.read_csv(r'L:\\RTP_2022\\final_runs\\sc_rtp_2018_final\\soundcast\\outputs\\network\\network_results.csv')"
   ]
  },
  {
   "cell_type": "code",
   "execution_count": 117,
   "metadata": {},
   "outputs": [],
   "source": [
    "df_tveh = df_network.groupby(['ij']).sum()[['@tveh']].reset_index()\n",
    "\n",
    "gdf = gdf.merge(df_tveh, left_on='id', right_on='ij', how='left')\n",
    "gdf.rename(columns={'@tveh': 'AADT'}, inplace=True)\n",
    "\n",
    "# Some links do not have traffic, so set AADT to 0\n",
    "gdf['AADT'] = gdf['AADT'].fillna(0)\n",
    "\n",
    "# Put AADT in classes\n",
    "\n",
    "# For 1-lane streets\n",
    "gdf.loc[(gdf['lanes_new'] == 1) & (gdf['AADT']<=750), 'AADT_class'] = '0-750'\n",
    "gdf.loc[(gdf['lanes_new'] == 1) & (gdf['AADT']>750) & (gdf['AADT']<=1500), 'AADT_class'] = '751-1500'\n",
    "gdf.loc[(gdf['lanes_new'] == 1) & (gdf['AADT']>1500) & (gdf['AADT']<=3000), 'AADT_class'] = '1501-3000'\n",
    "gdf.loc[(gdf['lanes_new'] == 1) & (gdf['AADT']>3000), 'AADT_class'] = '3001-999999'\n",
    "\n",
    "# For 2-lanes streets\n",
    "gdf.loc[(gdf['lanes_new'] == 2) & (gdf['AADT']<=7000), 'AADT_class'] = '0-7000'\n",
    "gdf.loc[(gdf['lanes_new'] == 2) & (gdf['AADT']>7000), 'AADT_class'] = '7001-999999'\n",
    "\n",
    "# For 3+ lane streets\n",
    "gdf.loc[(gdf['lanes_new'] == 3), 'AADT_class'] = '0-999999'"
   ]
  },
  {
   "cell_type": "code",
   "execution_count": 118,
   "metadata": {},
   "outputs": [
    {
     "data": {
      "text/plain": [
       "0-750          26622\n",
       "0-7000         25285\n",
       "3001-999999    14557\n",
       "7001-999999     8368\n",
       "1501-3000       7777\n",
       "751-1500        4480\n",
       "0-999999        3710\n",
       "Name: AADT_class, dtype: int64"
      ]
     },
     "execution_count": 118,
     "metadata": {},
     "output_type": "execute_result"
    }
   ],
   "source": [
    "gdf['AADT_class'].value_counts()"
   ]
  },
  {
   "cell_type": "code",
   "execution_count": 119,
   "metadata": {},
   "outputs": [
    {
     "data": {
      "text/plain": [
       "90799"
      ]
     },
     "execution_count": 119,
     "metadata": {},
     "output_type": "execute_result"
    }
   ],
   "source": [
    "len(gdf)"
   ]
  },
  {
   "cell_type": "code",
   "execution_count": 120,
   "metadata": {},
   "outputs": [
    {
     "data": {
      "text/plain": [
       "Index(['Lanes', 'SpeedLimit', 'AADT_min', 'AADT_max', 'PTLS', 'AADT_class'], dtype='object')"
      ]
     },
     "execution_count": 120,
     "metadata": {},
     "output_type": "execute_result"
    }
   ],
   "source": [
    "df_data.columns"
   ]
  },
  {
   "cell_type": "code",
   "execution_count": 121,
   "metadata": {},
   "outputs": [],
   "source": [
    "gdf = gdf.merge(df_data, left_on=['lanes_new','AADT_class','SpeedLimit_new'], right_on=['Lanes','AADT_class','SpeedLimit'], how='left')\n",
    "\n",
    "# Create new column names because ArcGIS is a dinosaur that can't handle more than 10 character headers\n",
    "gdf.rename(columns={'BikeFacility':'bkfac', 'SpeedLimit':'speed', 'AADT_class': 'vol'}, inplace=True)"
   ]
  },
  {
   "cell_type": "code",
   "execution_count": 122,
   "metadata": {},
   "outputs": [
    {
     "data": {
      "text/html": [
       "<div>\n",
       "<style scoped>\n",
       "    .dataframe tbody tr th:only-of-type {\n",
       "        vertical-align: middle;\n",
       "    }\n",
       "\n",
       "    .dataframe tbody tr th {\n",
       "        vertical-align: top;\n",
       "    }\n",
       "\n",
       "    .dataframe thead th {\n",
       "        text-align: right;\n",
       "    }\n",
       "</style>\n",
       "<table border=\"1\" class=\"dataframe\">\n",
       "  <thead>\n",
       "    <tr style=\"text-align: right;\">\n",
       "      <th></th>\n",
       "      <th>direction</th>\n",
       "      <th>i</th>\n",
       "      <th>j</th>\n",
       "      <th>length</th>\n",
       "      <th>modes</th>\n",
       "      <th>type</th>\n",
       "      <th>lanes</th>\n",
       "      <th>vdf</th>\n",
       "      <th>ul1</th>\n",
       "      <th>ul2</th>\n",
       "      <th>...</th>\n",
       "      <th>SpeedLimit_new</th>\n",
       "      <th>lanes_new</th>\n",
       "      <th>ij</th>\n",
       "      <th>AADT</th>\n",
       "      <th>vol</th>\n",
       "      <th>Lanes</th>\n",
       "      <th>speed</th>\n",
       "      <th>AADT_min</th>\n",
       "      <th>AADT_max</th>\n",
       "      <th>PTLS</th>\n",
       "    </tr>\n",
       "  </thead>\n",
       "  <tbody>\n",
       "  </tbody>\n",
       "</table>\n",
       "<p>0 rows × 42 columns</p>\n",
       "</div>"
      ],
      "text/plain": [
       "Empty GeoDataFrame\n",
       "Columns: [direction, i, j, length, modes, type, lanes, vdf, ul1, ul2, ul3, toll1, toll2, toll3, trkc1, trkc2, trkc3, ttf, PSRCEdgeID, FacilityTy, Processing, projRteID, CountID, CountyID, CorridorID, FGTS, is_managed, bkfac, id, weight, upslp, geometry, SpeedLimit_new, lanes_new, ij, AADT, vol, Lanes, speed, AADT_min, AADT_max, PTLS]\n",
       "Index: []\n",
       "\n",
       "[0 rows x 42 columns]"
      ]
     },
     "execution_count": 122,
     "metadata": {},
     "output_type": "execute_result"
    }
   ],
   "source": [
    "gdf[gdf['PTLS'].isnull()]"
   ]
  },
  {
   "cell_type": "code",
   "execution_count": 123,
   "metadata": {},
   "outputs": [
    {
     "data": {
      "text/html": [
       "<div>\n",
       "<style scoped>\n",
       "    .dataframe tbody tr th:only-of-type {\n",
       "        vertical-align: middle;\n",
       "    }\n",
       "\n",
       "    .dataframe tbody tr th {\n",
       "        vertical-align: top;\n",
       "    }\n",
       "\n",
       "    .dataframe thead th {\n",
       "        text-align: right;\n",
       "    }\n",
       "</style>\n",
       "<table border=\"1\" class=\"dataframe\">\n",
       "  <thead>\n",
       "    <tr style=\"text-align: right;\">\n",
       "      <th></th>\n",
       "      <th>ij</th>\n",
       "      <th>upslp_IJ</th>\n",
       "      <th>bkfac_IJ</th>\n",
       "      <th>Lanes_IJ</th>\n",
       "      <th>speed_IJ</th>\n",
       "      <th>PTLS_IJ</th>\n",
       "      <th>geometry</th>\n",
       "      <th>PSRCEdgeID</th>\n",
       "      <th>upslp_JI</th>\n",
       "      <th>bkfac_JI</th>\n",
       "      <th>Lanes_JI</th>\n",
       "      <th>speed_JI</th>\n",
       "      <th>PTLS_JI</th>\n",
       "    </tr>\n",
       "  </thead>\n",
       "  <tbody>\n",
       "    <tr>\n",
       "      <th>0</th>\n",
       "      <td>2505-79004</td>\n",
       "      <td>0.000000</td>\n",
       "      <td>0.0</td>\n",
       "      <td>2</td>\n",
       "      <td>20</td>\n",
       "      <td>2</td>\n",
       "      <td>LINESTRING (1272486.412 309313.000, 1272586.82...</td>\n",
       "      <td>874.0</td>\n",
       "      <td>0.000000</td>\n",
       "      <td>0.0</td>\n",
       "      <td>2.0</td>\n",
       "      <td>20.0</td>\n",
       "      <td>2.0</td>\n",
       "    </tr>\n",
       "    <tr>\n",
       "      <th>1</th>\n",
       "      <td>2505-71782</td>\n",
       "      <td>0.000000</td>\n",
       "      <td>0.0</td>\n",
       "      <td>2</td>\n",
       "      <td>20</td>\n",
       "      <td>2</td>\n",
       "      <td>LINESTRING (1272486.412 309313.000, 1272379.82...</td>\n",
       "      <td>872.0</td>\n",
       "      <td>0.000000</td>\n",
       "      <td>0.0</td>\n",
       "      <td>2.0</td>\n",
       "      <td>20.0</td>\n",
       "      <td>2.0</td>\n",
       "    </tr>\n",
       "    <tr>\n",
       "      <th>2</th>\n",
       "      <td>2505-75120</td>\n",
       "      <td>0.000000</td>\n",
       "      <td>0.0</td>\n",
       "      <td>2</td>\n",
       "      <td>20</td>\n",
       "      <td>2</td>\n",
       "      <td>LINESTRING (1272486.412 309313.000, 1272491.52...</td>\n",
       "      <td>873.0</td>\n",
       "      <td>0.000000</td>\n",
       "      <td>0.0</td>\n",
       "      <td>2.0</td>\n",
       "      <td>20.0</td>\n",
       "      <td>2.0</td>\n",
       "    </tr>\n",
       "    <tr>\n",
       "      <th>3</th>\n",
       "      <td>79117-79004</td>\n",
       "      <td>0.186476</td>\n",
       "      <td>0.0</td>\n",
       "      <td>1</td>\n",
       "      <td>25</td>\n",
       "      <td>1</td>\n",
       "      <td>LINESTRING (1274401.412 310281.765, 1274386.64...</td>\n",
       "      <td>131369.0</td>\n",
       "      <td>0.000000</td>\n",
       "      <td>0.0</td>\n",
       "      <td>1.0</td>\n",
       "      <td>25.0</td>\n",
       "      <td>1.0</td>\n",
       "    </tr>\n",
       "    <tr>\n",
       "      <th>4</th>\n",
       "      <td>79004-72460</td>\n",
       "      <td>0.002948</td>\n",
       "      <td>0.0</td>\n",
       "      <td>1</td>\n",
       "      <td>25</td>\n",
       "      <td>1</td>\n",
       "      <td>LINESTRING (1274354.882 310296.588, 1274316.11...</td>\n",
       "      <td>131706.0</td>\n",
       "      <td>0.071124</td>\n",
       "      <td>0.0</td>\n",
       "      <td>1.0</td>\n",
       "      <td>25.0</td>\n",
       "      <td>1.0</td>\n",
       "    </tr>\n",
       "  </tbody>\n",
       "</table>\n",
       "</div>"
      ],
      "text/plain": [
       "            ij  upslp_IJ  bkfac_IJ  Lanes_IJ  speed_IJ  PTLS_IJ  \\\n",
       "0   2505-79004  0.000000       0.0         2        20        2   \n",
       "1   2505-71782  0.000000       0.0         2        20        2   \n",
       "2   2505-75120  0.000000       0.0         2        20        2   \n",
       "3  79117-79004  0.186476       0.0         1        25        1   \n",
       "4  79004-72460  0.002948       0.0         1        25        1   \n",
       "\n",
       "                                            geometry  PSRCEdgeID  upslp_JI  \\\n",
       "0  LINESTRING (1272486.412 309313.000, 1272586.82...       874.0  0.000000   \n",
       "1  LINESTRING (1272486.412 309313.000, 1272379.82...       872.0  0.000000   \n",
       "2  LINESTRING (1272486.412 309313.000, 1272491.52...       873.0  0.000000   \n",
       "3  LINESTRING (1274401.412 310281.765, 1274386.64...    131369.0  0.000000   \n",
       "4  LINESTRING (1274354.882 310296.588, 1274316.11...    131706.0  0.071124   \n",
       "\n",
       "   bkfac_JI  Lanes_JI  speed_JI  PTLS_JI  \n",
       "0       0.0       2.0      20.0      2.0  \n",
       "1       0.0       2.0      20.0      2.0  \n",
       "2       0.0       2.0      20.0      2.0  \n",
       "3       0.0       1.0      25.0      1.0  \n",
       "4       0.0       1.0      25.0      1.0  "
      ]
     },
     "execution_count": 123,
     "metadata": {},
     "output_type": "execute_result"
    }
   ],
   "source": [
    "gdf['ij'] = gdf['i'].astype('str')+'-'+gdf['j'].astype('str')\n",
    "gdf['ji'] = gdf['j'].astype('str')+'-'+gdf['i'].astype('str')\n",
    "\n",
    "gdf['ji_exists'] = 0\n",
    "gdf.loc[gdf['ji'].isin(gdf['ij']), 'ji_exists'] = 1\n",
    "\n",
    "# Get a ji dataframe\n",
    "gdf_ji = gdf[gdf['ji_exists']==1].copy()\n",
    "gdf_ji.drop(['ij','geometry'], axis=1, inplace=True)\n",
    "gdf_ji.rename(columns={'ji': 'ij'}, inplace=True)\n",
    "\n",
    "# merge that to gdf\n",
    "\n",
    "gdf_new = gdf.copy()\n",
    "gdf_new = gdf_new[['ij','upslp',  'bkfac','Lanes', 'speed', 'PTLS','geometry','PSRCEdgeID']].merge(gdf_ji[['ij','upslp',  'bkfac','Lanes', 'speed', 'PTLS']],\n",
    "                                                                                      how='left', on='ij', suffixes=['_IJ','_JI'])\n",
    "gdf_new.head()"
   ]
  },
  {
   "cell_type": "code",
   "execution_count": 124,
   "metadata": {},
   "outputs": [],
   "source": [
    "gdf_new.to_file('2023_ped_stress_index.shp')"
   ]
  },
  {
   "cell_type": "code",
   "execution_count": 125,
   "metadata": {},
   "outputs": [
    {
     "data": {
      "text/plain": [
       "90799"
      ]
     },
     "execution_count": 125,
     "metadata": {},
     "output_type": "execute_result"
    }
   ],
   "source": [
    "len(gdf_new)"
   ]
  }
 ],
 "metadata": {
  "kernelspec": {
   "display_name": "summary",
   "language": "python",
   "name": "python3"
  },
  "language_info": {
   "codemirror_mode": {
    "name": "ipython",
    "version": 3
   },
   "file_extension": ".py",
   "mimetype": "text/x-python",
   "name": "python",
   "nbconvert_exporter": "python",
   "pygments_lexer": "ipython3",
   "version": "3.7.10"
  }
 },
 "nbformat": 4,
 "nbformat_minor": 2
}
