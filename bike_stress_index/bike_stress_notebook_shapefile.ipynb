{
 "cells": [
  {
   "cell_type": "code",
   "execution_count": 1,
   "metadata": {},
   "outputs": [],
   "source": [
    "import numpy as np\n",
    "import pandas as pd\n",
    "import geopandas as gpd\n",
    "import psrcelmerpy"
   ]
  },
  {
   "cell_type": "markdown",
   "metadata": {},
   "source": []
  },
  {
   "cell_type": "code",
   "execution_count": 2,
   "metadata": {},
   "outputs": [],
   "source": [
    "eg_conn = psrcelmerpy.ElmerGeoConn()\n"
   ]
  },
  {
   "cell_type": "code",
   "execution_count": 3,
   "metadata": {},
   "outputs": [],
   "source": [
    "# Load extract of TransRefEdges (provided by Nick)\n",
    "gdf = gpd.read_file(r'X:\\DSA\\bike_lts\\2023_PedBikeInventory_forLTS_withSlope.shp')\n",
    "gdf = gdf.to_crs('EPSG:2285')"
   ]
  },
  {
   "cell_type": "code",
   "execution_count": 4,
   "metadata": {},
   "outputs": [],
   "source": [
    "# Load bike stress table, adapted from Lowry\n",
    "# https://www1.coe.neu.edu/~pfurth/Furth%20papers/2016%20Prioritizing%20to%20improve%20low-stress%20network%20connectivity%20Lowry,%20Furth,%20Hadden-Loh.pdf\n",
    "\n",
    "df_data = pd.read_csv('bike_stress_table.csv')"
   ]
  },
  {
   "cell_type": "code",
   "execution_count": 5,
   "metadata": {},
   "outputs": [],
   "source": [
    "# The Lowry table provides values based on bi-directional data of lanes and speed limit\n",
    "# The transRefEdges network is made up of directional links, so we need to sum lanes to match Lowry\n",
    "\n",
    "# Assume speed limit will be the same in both directions, use IJ direction\n",
    "gdf['SpeedLimit_new'] = gdf['IJSpeedLim'].copy()\n",
    "gdf.loc[gdf['IJSpeedLim'] <= 25, 'SpeedLimit_new'] = 25\n",
    "gdf.loc[gdf['IJSpeedLim'] >= 35, 'SpeedLimit_new'] = 35\n",
    "\n",
    "# Lanes will be the sum of both directions\n",
    "gdf['lanes_new'] = (gdf['IJLanesGPA']+gdf['JILanesGPA']).astype('int')\n",
    "\n",
    "# Set maximum lanes at 6 and minimum at 2\n",
    "gdf.loc[gdf['lanes_new'] >= 6, 'lanes_new'] = 6\n",
    "gdf.loc[gdf['lanes_new'] <2, 'lanes_new'] = 2\n",
    "\n",
    "# Lowry has different values for neighborhood street for each bike facility type\n",
    "# Create a flag for an local street\n",
    "gdf['LocalStreet'] = 0\n",
    "gdf.loc[gdf['FacilityTy'] == 9, 'LocalStreet'] = 1"
   ]
  },
  {
   "cell_type": "code",
   "execution_count": 6,
   "metadata": {},
   "outputs": [],
   "source": [
    "# Intersect with urban growth area\n",
    "gdf_growth_area = eg_conn.read_geolayer('urban_growth_area')\n",
    "gdf_growth_area = gdf_growth_area[['county_name','geometry']].to_crs('EPSG:2285')\n",
    "\n",
    "gdf = gpd.sjoin(gdf, gdf_growth_area, how=\"left\")\n",
    "\n",
    "gdf['rural'] = 'not_rural'\n",
    "gdf.loc[gdf['county_name'].isnull(),'rural'] = 'rural'"
   ]
  },
  {
   "cell_type": "code",
   "execution_count": 7,
   "metadata": {},
   "outputs": [],
   "source": [
    "# Define transRefEdges facility types to match the study definitions\n",
    "\n",
    "bike_type_map = {\n",
    "    0: 'NoBikeFacility',    # No Bike Lane\n",
    "    1: 'BikeLane',    # Striped Bike Lane\n",
    "    2: 'ProtectedBikeLane',    # Protected Bike Lane\n",
    "    3: 'NoBikeFacility',    # Paved Shoulder\n",
    "    4: 'Sharrows',    # Shared Lane Markings\n",
    "    5: 'NoBikeFacility',    # Bike Provision Undefined\n",
    "    6: 'NoBikeFacility',    # Bike Provision Undefined\n",
    "    8: 'SharedUsePath',    # Shared Use Path\n",
    "    9: 'BufferedBikeLane',    # Buffered Bike Lane \n",
    "    10: 'NoBikeFacility',     # Neighborhood Greenway\n",
    "    11: 'SharedUsePath'    # Shared use path\n",
    "}\n",
    "\n",
    "# Create a mapping of local vs other area type\n",
    "area_type_map = {\n",
    "    0: 'Other',\n",
    "    1: 'Neighborhood'\n",
    "}\n",
    "\n",
    "# Get area type to be able to classify local streets\n",
    "gdf['AreaType'] = gdf['LocalStreet'].map(area_type_map)\n",
    "\n",
    "# We will follow this designation for any local street with speeds 30 mph or less and 2 lanes (1 in each direction)\n",
    "# If speed limit > 30, set area type to non-neighborhood\n",
    "gdf.loc[(gdf['SpeedLimit_new']>30, 'AreaType')] = 'Other'\n",
    "\n",
    "# If number of lanes > 2, set area type to non-neighborhood regardless of street type\n",
    "gdf.loc[(gdf['lanes_new']>2, 'AreaType')] = 'Other'\n",
    "\n",
    "gdf_new = gdf.copy()\n",
    "for dir in ['IJ','JI']:\n",
    "    # Create new fields that use the bike facility\n",
    "    gdf_new[dir+'BikeFacility'] = gdf_new[dir+'BikeType'].map(bike_type_map)\n",
    "\n",
    "    # If in rural area, treat paved shoulder as bike lanes\n",
    "    gdf_new.loc[((gdf_new['rural']=='rural')&(gdf_new[dir+'BikeType']==3)), dir+'BikeFacility'] = 'BikeLane'\n",
    "\n",
    "    # Merge to df_data to get stress values\n",
    "    gdf_new = gdf_new.merge(df_data, left_on=['SpeedLimit_new', 'lanes_new', dir+'BikeFacility','AreaType'], \n",
    "            right_on=['SpeedLimit', 'Lanes', 'BikeFacility', 'AreaType'], how='left', suffixes=['_IJ','_JI'])"
   ]
  },
  {
   "cell_type": "code",
   "execution_count": 8,
   "metadata": {},
   "outputs": [],
   "source": [
    "# Add length in feet\n",
    "gdf_new['Shape_Length'] = gdf_new.length"
   ]
  },
  {
   "cell_type": "code",
   "execution_count": 9,
   "metadata": {},
   "outputs": [],
   "source": [
    "# Add impact of slope as an additional stress factor on top of the facility type, speed limit, and number of lanes\n",
    "gdf_new['upslp'] = gdf_new['Max_Slope']/gdf_new['SLength']\n",
    "for dir in ['IJ','JI']:\n",
    "    gdf_new.loc[(gdf_new['upslp'] > .02) & (gdf_new['upslp'] <= .04), 'Factor_'+dir] = gdf_new['Factor_'+dir] + 0.37\n",
    "    gdf_new.loc[(gdf_new['upslp'] > .04) & (gdf_new['upslp'] <= .06), 'Factor_'+dir] = gdf_new['Factor_'+dir] + 1.2\n",
    "    gdf_new.loc[(gdf_new['upslp'] > .06), 'Factor_'+dir] = gdf_new['Factor_'+dir] + 3.2\n",
    "\n",
    "# Assign LTS based on stress factor\n",
    "for dir in ['IJ','JI']:\n",
    "    gdf_new.loc[gdf_new['Factor_'+dir] < 0.1, 'LTS_'+dir] = 1\n",
    "    gdf_new.loc[(gdf_new['Factor_'+dir] >= 0.1) & (gdf_new['Factor_'+dir] < 0.3), 'LTS_'+dir] = 2\n",
    "    gdf_new.loc[(gdf_new['Factor_'+dir] >= 0.3) & (gdf_new['Factor_'+dir] < 0.6), 'LTS_'+dir] = 3\n",
    "    gdf_new.loc[gdf_new['Factor_'+dir] >= 0.6, 'LTS_'+dir] = 4"
   ]
  },
  {
   "cell_type": "code",
   "execution_count": 10,
   "metadata": {},
   "outputs": [],
   "source": [
    "# Write to file\n",
    "gdf_new.to_csv(r'X:\\DSA\\bike_lts\\output\\transRefEdges_bike_stress_2023_01_27_25.csv')"
   ]
  }
 ],
 "metadata": {
  "kernelspec": {
   "display_name": "summary",
   "language": "python",
   "name": "python3"
  },
  "language_info": {
   "codemirror_mode": {
    "name": "ipython",
    "version": 3
   },
   "file_extension": ".py",
   "mimetype": "text/x-python",
   "name": "python",
   "nbconvert_exporter": "python",
   "pygments_lexer": "ipython3",
   "version": "3.7.10"
  }
 },
 "nbformat": 4,
 "nbformat_minor": 2
}
