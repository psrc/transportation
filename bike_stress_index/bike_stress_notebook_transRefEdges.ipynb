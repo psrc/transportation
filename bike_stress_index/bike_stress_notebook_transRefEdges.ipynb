{
 "cells": [
  {
   "cell_type": "code",
   "execution_count": 48,
   "metadata": {},
   "outputs": [],
   "source": [
    "import numpy as np\n",
    "import pandas as pd\n",
    "import geopandas as gpd\n",
    "import psrcelmerpy"
   ]
  },
  {
   "cell_type": "markdown",
   "metadata": {},
   "source": []
  },
  {
   "cell_type": "code",
   "execution_count": 49,
   "metadata": {},
   "outputs": [],
   "source": [
    "eg_conn = psrcelmerpy.ElmerGeoConn()\n",
    "\n",
    "# Load TransRefEdges\n",
    "gdf = eg_conn.read_geolayer('transRefEdges')\n",
    "gdf = gdf.to_crs('EPSG:2285')"
   ]
  },
  {
   "cell_type": "code",
   "execution_count": 50,
   "metadata": {},
   "outputs": [],
   "source": [
    "# Get bicycle attribute tables\n",
    "e_conn = psrcelmerpy.ElmerConn()\n",
    "mode_att = eg_conn.get_table(schema='dbo', table_name='modeattributes')\n",
    "\n",
    "# gdf['PSRCEdgeID']\n",
    "gdf = gdf.merge(mode_att, on='PSRCEdgeID', how='left')\n"
   ]
  },
  {
   "cell_type": "code",
   "execution_count": 51,
   "metadata": {},
   "outputs": [
    {
     "data": {
      "text/plain": [
       " 0.0    174888\n",
       " 1.0     71148\n",
       "-1.0       937\n",
       "Name: IJPedFacilities, dtype: int64"
      ]
     },
     "execution_count": 51,
     "metadata": {},
     "output_type": "execute_result"
    }
   ],
   "source": [
    "mode_att.columns\n",
    "# IJBikeFacilities is for completeness do NOT use IJBikeFacility!\n",
    "# IJPedFacilities\n",
    "# mode_att['IJBikeFacilities']\n",
    "# Use IJBikeType\n",
    "mode_att['IJBikeType'].value_counts()\n",
    "\n",
    "# For Ped/Bike Facilities\n",
    "# -1 partial\n",
    "# 0 no facilities\n",
    "# 1 complete facilties\n",
    "# 1 or -1 for sidewalks and bikes\n",
    "mode_att['IJPedFacilities'].value_counts()"
   ]
  },
  {
   "cell_type": "code",
   "execution_count": 52,
   "metadata": {},
   "outputs": [],
   "source": [
    "# Load bike stress table, adapted from Lowry\n",
    "# https://www1.coe.neu.edu/~pfurth/Furth%20papers/2016%20Prioritizing%20to%20improve%20low-stress%20network%20connectivity%20Lowry,%20Furth,%20Hadden-Loh.pdf\n",
    "\n",
    "df_data = pd.read_csv('bike_stress_table.csv')"
   ]
  },
  {
   "cell_type": "code",
   "execution_count": 66,
   "metadata": {},
   "outputs": [],
   "source": [
    "# Reformat speed limit and lanes to match the bike stress data\n",
    "# Creating a new column for speed limits where minimum is capped at 25 and max at 35\n",
    "# for dir in ['IJ','JI']:\n",
    "#     gdf[dir+'SpeedLimit_new'] = gdf[dir+'SpeedLimit'].copy()\n",
    "#     gdf.loc[gdf[dir+'SpeedLimit'] <= 25, dir+'SpeedLimit_new'] = 25\n",
    "#     gdf.loc[gdf[dir+'SpeedLimit'] >= 35, dir+'SpeedLimit_new'] = 35\n",
    "\n",
    "#     # Set maximum lanes at 6 and minimum at 2\n",
    "\n",
    "#     gdf[dir+'lanes_new'] = gdf[dir+'LanesGPAM'].copy().astype('int')\n",
    "#     gdf.loc[gdf[dir+'LanesGPAM'] >= 6, dir+'lanes_new'] = 6\n",
    "#     gdf.loc[gdf[dir+'LanesGPAM'] <2, dir+'lanes_new'] = 2\n",
    "\n",
    "#     # Lowry has different values for neighborhood street for each bike facility type\n",
    "#     # Create a flag for an local street\n",
    "#     gdf[dir+'LocalStreet'] = 0\n",
    "#     gdf.loc[gdf['FacilityType'] == 9, 'LocalStreet'] = 1\n",
    "\n",
    "\n",
    "# The Lowry table provides values based on bi-directional data of lanes and speed limit\n",
    "# The transRefEdges network is made up of directional links, so we need to sum lanes to match Lowry\n",
    "\n",
    "# Assume speed limit will be the same in both directions, use IJ direction\n",
    "gdf['SpeedLimit_new'] = gdf['IJSpeedLimit'].copy()\n",
    "gdf.loc[gdf['IJSpeedLimit'] <= 25, 'SpeedLimit_new'] = 25\n",
    "gdf.loc[gdf['IJSpeedLimit'] >= 35, 'SpeedLimit_new'] = 35\n",
    "\n",
    "# Lanes will be the sum of both directions\n",
    "gdf['lanes_new'] = (gdf['IJLanesGPAM']+gdf['JILanesGPAM']).astype('int')\n",
    "\n",
    "# Set maximum lanes at 6 and minimum at 2\n",
    "gdf.loc[gdf['lanes_new'] >= 6, 'lanes_new'] = 6\n",
    "gdf.loc[gdf['lanes_new'] <2, 'lanes_new'] = 2\n",
    "\n",
    "# Lowry has different values for neighborhood street for each bike facility type\n",
    "# Create a flag for an local street\n",
    "gdf['LocalStreet'] = 0\n",
    "gdf.loc[gdf['FacilityType'] == 9, 'LocalStreet'] = 1"
   ]
  },
  {
   "cell_type": "code",
   "execution_count": 67,
   "metadata": {},
   "outputs": [],
   "source": [
    "gdf['FacilityType'] = gdf['FacilityType'].astype('int')\n",
    "gdf['FacilityType'].unique()\n",
    "\n",
    "# Remove centroid connectors and freeways\n",
    "facility_type_lookup = {\n",
    "    1:'Freeway',   # Interstate\n",
    "    2:'Freeway',   # Other Freeway\n",
    "    3:'Freeway', # Expressway\n",
    "    4:'Ramp',\n",
    "    5:'Arterial',    # Principal arterial\n",
    "    6:'Arterial',    # Minor Arterial\n",
    "    7:'Collector',    # Major Collector\n",
    "    8:'Collector',    # Minor Collector\n",
    "    9:'Collector',   # Local\n",
    "    10:'Busway',\n",
    "    11:'Non-Motor',\n",
    "    12:'Light Rail',\n",
    "    13:'Commuter Rail',\n",
    "    15:'Ferry',\n",
    "    16:'Passenger Only Ferry',\n",
    "    17:'Connector',    # centroid connector\n",
    "    18:'Connector',    # facility connector\n",
    "    19:'HOV',    # HOV Only Freeway\n",
    "    20:'HOV'    # HOV Flag\n",
    "    }\n",
    "\n",
    "gdf = gdf[gdf['FacilityType'].isin([5,6,7,8,9,11])]"
   ]
  },
  {
   "cell_type": "code",
   "execution_count": 55,
   "metadata": {},
   "outputs": [
    {
     "data": {
      "text/plain": [
       "230054"
      ]
     },
     "execution_count": 55,
     "metadata": {},
     "output_type": "execute_result"
    }
   ],
   "source": [
    "len(gdf)"
   ]
  },
  {
   "cell_type": "code",
   "execution_count": 56,
   "metadata": {},
   "outputs": [],
   "source": [
    "# Intersect with urban growth area\n",
    "gdf_growth_area = eg_conn.read_geolayer('urban_growth_area')\n",
    "gdf_growth_area = gdf_growth_area[['county_name','geometry']].to_crs('EPSG:2285')\n",
    "\n",
    "gdf = gpd.sjoin(gdf, gdf_growth_area, how=\"left\")\n",
    "\n",
    "gdf['rural'] = 'not_rural'\n",
    "gdf.loc[gdf['county_name'].isnull(),'rural'] = 'rural'"
   ]
  },
  {
   "cell_type": "code",
   "execution_count": 57,
   "metadata": {},
   "outputs": [
    {
     "data": {
      "text/plain": [
       "0.0    170873\n",
       "6.0     38230\n",
       "1.0      7122\n",
       "3.0      6707\n",
       "8.0      4770\n",
       "4.0      1907\n",
       "2.0       481\n",
       "9.0        51\n",
       "5.0        12\n",
       "Name: IJBikeType, dtype: int64"
      ]
     },
     "execution_count": 57,
     "metadata": {},
     "output_type": "execute_result"
    }
   ],
   "source": [
    "gdf['IJBikeType'].value_counts()"
   ]
  },
  {
   "cell_type": "code",
   "execution_count": 68,
   "metadata": {},
   "outputs": [],
   "source": [
    "# Define transRefEdges facility types to match the study definitions\n",
    "\n",
    "bike_type_map = {\n",
    "    0: 'NoBikeFacility',    # No Bike Lane\n",
    "    1: 'BikeLane',    # Striped Bike Lane\n",
    "    2: 'ProtectedBikeLane',    # Protected Bike Lane\n",
    "    3: 'NoBikeFacility',    # Paved Shoulder\n",
    "    4: 'Sharrows',    # Shared Lane Markings\n",
    "    5: 'NoBikeFacility',    # Bike Provision Undefined\n",
    "    6: 'NoBikeFacility',    # Bike Provision Undefined\n",
    "    8: 'SharedUsePath',    # Shared Use Path\n",
    "    9: 'BufferedBikeLane',    # Buffered Bike Lane \n",
    "    10: 'NoBikeFacility',     # Neighborhood Greenway\n",
    "    11: 'SharedUsePath'    # Shared use path\n",
    "    \n",
    "}\n",
    "\n",
    "# Create a mapping of local vs other area type\n",
    "area_type_map = {\n",
    "    0: 'Other',\n",
    "    1: 'Neighborhood'\n",
    "}\n",
    "\n",
    "# Get area type to be able to classify local streets\n",
    "gdf['AreaType'] = gdf['LocalStreet'].map(area_type_map)\n",
    "\n",
    "# We will follow this designation for any local street with speeds 30 mph or less and 2 lanes (1 in each direction)\n",
    "# If speed limit > 30, set area type to non-neighborhood\n",
    "gdf.loc[(gdf['SpeedLimit_new']>30, 'AreaType')] = 'Other'\n",
    "\n",
    "# If number of lanes > 2, set area type to non-neighborhood regardless of street type\n",
    "gdf.loc[(gdf['lanes_new']>2, 'AreaType')] = 'Other'\n",
    "\n",
    "gdf_new = gdf.copy()\n",
    "for dir in ['IJ','JI']:\n",
    "    # Create new fields that use the bike facility\n",
    "    gdf_new[dir+'BikeFacility'] = gdf_new[dir+'BikeType'].map(bike_type_map)\n",
    "\n",
    "    # If in rural area, treat paved shoulder as bike lanes\n",
    "    gdf_new.loc[((gdf_new['rural']=='rural')&(gdf_new[dir+'BikeType']==3)), dir+'BikeFacility'] = 'BikeLane'\n",
    "\n",
    "    # Merge to df_data to get stress values\n",
    "    gdf_new = gdf_new.merge(df_data, left_on=['SpeedLimit_new', 'lanes_new', dir+'BikeFacility','AreaType'], \n",
    "            right_on=['SpeedLimit', 'Lanes', 'BikeFacility', 'AreaType'], how='left', suffixes=['_IJ','_JI'])"
   ]
  },
  {
   "cell_type": "code",
   "execution_count": 72,
   "metadata": {},
   "outputs": [],
   "source": [
    "gdf_new.head(20).to_clipboard()"
   ]
  },
  {
   "cell_type": "code",
   "execution_count": 60,
   "metadata": {},
   "outputs": [],
   "source": [
    "# add impact of slope\n",
    "# gdf.loc[(gdf['upslp'] > .02) & (gdf['upslp'] <= .04), 'Factor'] = gdf['Factor'] + 0.37\n",
    "# gdf.loc[(gdf['upslp'] > .04) & (gdf['upslp'] <= .06), 'Factor'] = gdf['Factor'] + 1.2\n",
    "# gdf.loc[(gdf['upslp'] > .06), 'Factor'] = gdf['Factor'] + 3.2"
   ]
  },
  {
   "cell_type": "code",
   "execution_count": 71,
   "metadata": {},
   "outputs": [],
   "source": [
    "# Assign LTS based on stress factor\n",
    "for dir in ['IJ','JI']:\n",
    "    gdf_new.loc[gdf_new['Factor_'+dir] < 0.1, 'LTS_'+dir] = 1\n",
    "    gdf_new.loc[(gdf_new['Factor_'+dir] >= 0.1) & (gdf_new['Factor_'+dir] < 0.3), 'LTS_'+dir] = 2\n",
    "    gdf_new.loc[(gdf_new['Factor_'+dir] >= 0.3) & (gdf_new['Factor_'+dir] < 0.6), 'LTS_'+dir] = 3\n",
    "    gdf_new.loc[gdf_new['Factor_'+dir] >= 0.6, 'LTS_'+dir] = 4"
   ]
  },
  {
   "cell_type": "code",
   "execution_count": 74,
   "metadata": {},
   "outputs": [],
   "source": [
    "gdf_new[gdf_new['Factor_IJ'] != gdf_new['Factor_JI']].to_clipboard()"
   ]
  },
  {
   "cell_type": "code",
   "execution_count": null,
   "metadata": {},
   "outputs": [],
   "source": [
    "# Create new column names because ArcGIS is a dinosaur that can't handle more than 10 character headers\n",
    "# gdf.rename(columns={'BikeFacility':'bkfac', 'SpeedLimit':'speed'}, inplace=True)"
   ]
  },
  {
   "cell_type": "code",
   "execution_count": 1,
   "metadata": {},
   "outputs": [
    {
     "ename": "NameError",
     "evalue": "name 'gdf_new' is not defined",
     "output_type": "error",
     "traceback": [
      "\u001b[1;31m---------------------------------------------------------------------------\u001b[0m",
      "\u001b[1;31mNameError\u001b[0m                                 Traceback (most recent call last)",
      "\u001b[1;32m<ipython-input-1-06f128544099>\u001b[0m in \u001b[0;36m<module>\u001b[1;34m\u001b[0m\n\u001b[1;32m----> 1\u001b[1;33m \u001b[0mgdf_new\u001b[0m\u001b[1;33m\u001b[0m\u001b[1;33m\u001b[0m\u001b[0m\n\u001b[0m",
      "\u001b[1;31mNameError\u001b[0m: name 'gdf_new' is not defined"
     ]
    }
   ],
   "source": [
    "gdf_new"
   ]
  },
  {
   "cell_type": "code",
   "execution_count": null,
   "metadata": {},
   "outputs": [],
   "source": []
  }
 ],
 "metadata": {
  "kernelspec": {
   "display_name": "summary",
   "language": "python",
   "name": "python3"
  },
  "language_info": {
   "codemirror_mode": {
    "name": "ipython",
    "version": 3
   },
   "file_extension": ".py",
   "mimetype": "text/x-python",
   "name": "python",
   "nbconvert_exporter": "python",
   "pygments_lexer": "ipython3",
   "version": "3.7.10"
  }
 },
 "nbformat": 4,
 "nbformat_minor": 2
}
